{
 "cells": [
  {
   "cell_type": "code",
   "execution_count": 27,
   "metadata": {},
   "outputs": [],
   "source": [
    "import numpy as np\n",
    "import pandas as pd"
   ]
  },
  {
   "cell_type": "code",
   "execution_count": 2,
   "metadata": {},
   "outputs": [
    {
     "name": "stdout",
     "output_type": "stream",
     "text": [
      "Requirement already satisfied: cassandra-driver in c:\\users\\welcome\\anaconda3\\lib\\site-packages (3.25.0)\n",
      "Requirement already satisfied: geomet<0.3,>=0.1 in c:\\users\\welcome\\anaconda3\\lib\\site-packages (from cassandra-driver) (0.2.1.post1)\n",
      "Requirement already satisfied: six>=1.9 in c:\\users\\welcome\\anaconda3\\lib\\site-packages (from cassandra-driver) (1.14.0)\n",
      "Requirement already satisfied: click in c:\\users\\welcome\\anaconda3\\lib\\site-packages (from geomet<0.3,>=0.1->cassandra-driver) (7.0)\n"
     ]
    }
   ],
   "source": [
    "!pip install cassandra-driver\n"
   ]
  },
  {
   "cell_type": "code",
   "execution_count": 3,
   "metadata": {},
   "outputs": [
    {
     "name": "stdout",
     "output_type": "stream",
     "text": [
      "3.25.0\n"
     ]
    }
   ],
   "source": [
    "import cassandra\n",
    "print(cassandra.__version__)"
   ]
  },
  {
   "cell_type": "code",
   "execution_count": 4,
   "metadata": {},
   "outputs": [],
   "source": [
    "from cassandra.query import SimpleStatement,BatchStatement\n",
    "batch=BatchStatement()"
   ]
  },
  {
   "cell_type": "code",
   "execution_count": 51,
   "metadata": {},
   "outputs": [
    {
     "name": "stdout",
     "output_type": "stream",
     "text": [
      "Row(Type=5, RI=Decimal('1.51316'), Na=Decimal('13.02'), Mg=Decimal('0'), Al=Decimal('3.04'), Si=Decimal('70.48'), K=Decimal('6.21'), Ca=Decimal('6.96'), Ba=0, Fe=0)\n",
      "Row(Type=5, RI=Decimal('1.51321'), Na=Decimal('13'), Mg=Decimal('0'), Al=Decimal('3.02'), Si=Decimal('70.7'), K=Decimal('6.21'), Ca=Decimal('6.93'), Ba=0, Fe=0)\n",
      "Row(Type=5, RI=Decimal('1.51666'), Na=Decimal('12.86'), Mg=Decimal('0'), Al=Decimal('1.83'), Si=Decimal('73.88'), K=Decimal('0.97'), Ca=Decimal('10.17'), Ba=0, Fe=0)\n",
      "Row(Type=5, RI=Decimal('1.51915'), Na=Decimal('12.73'), Mg=Decimal('1.85'), Al=Decimal('1.86'), Si=Decimal('72.69'), K=Decimal('0.6'), Ca=Decimal('10.09'), Ba=0, Fe=0)\n",
      "Row(Type=5, RI=Decimal('1.51969'), Na=Decimal('12.64'), Mg=Decimal('0'), Al=Decimal('1.65'), Si=Decimal('73.75'), K=Decimal('0.38'), Ca=Decimal('11.53'), Ba=0, Fe=0)\n",
      "Row(Type=5, RI=Decimal('1.51994'), Na=Decimal('13.27'), Mg=Decimal('0'), Al=Decimal('1.76'), Si=Decimal('73.03'), K=Decimal('0.47'), Ca=Decimal('11.32'), Ba=0, Fe=0)\n",
      "Row(Type=5, RI=Decimal('1.52043'), Na=Decimal('13.38'), Mg=Decimal('0'), Al=Decimal('1.4'), Si=Decimal('72.25'), K=Decimal('0.33'), Ca=Decimal('12.5'), Ba=0, Fe=0)\n",
      "Row(Type=5, RI=Decimal('1.52151'), Na=Decimal('11.03'), Mg=Decimal('1.71'), Al=Decimal('1.56'), Si=Decimal('73.44'), K=Decimal('0.58'), Ca=Decimal('11.62'), Ba=0, Fe=0)\n",
      "Row(Type=5, RI=Decimal('1.52171'), Na=Decimal('11.56'), Mg=Decimal('1.88'), Al=Decimal('1.56'), Si=Decimal('72.86'), K=Decimal('0.47'), Ca=Decimal('11.41'), Ba=0, Fe=0)\n",
      "Row(Type=5, RI=Decimal('1.52369'), Na=Decimal('13.44'), Mg=Decimal('0'), Al=Decimal('1.58'), Si=Decimal('72.22'), K=Decimal('0.32'), Ca=Decimal('12.24'), Ba=0, Fe=0)\n",
      "Row(Type=1, RI=Decimal('1.51567'), Na=Decimal('13.29'), Mg=Decimal('3.45'), Al=Decimal('1.21'), Si=Decimal('72.74'), K=Decimal('0.56'), Ca=Decimal('8.57'), Ba=0, Fe=0)\n",
      "Row(Type=1, RI=Decimal('1.51618'), Na=Decimal('13.53'), Mg=Decimal('3.55'), Al=Decimal('1.54'), Si=Decimal('72.99'), K=Decimal('0.39'), Ca=Decimal('7.78'), Ba=0, Fe=0)\n",
      "Row(Type=1, RI=Decimal('1.5172'), Na=Decimal('13.38'), Mg=Decimal('3.5'), Al=Decimal('1.15'), Si=Decimal('72.85'), K=Decimal('0.5'), Ca=Decimal('8.43'), Ba=0, Fe=0)\n",
      "Row(Type=1, RI=Decimal('1.51721'), Na=Decimal('12.87'), Mg=Decimal('3.48'), Al=Decimal('1.33'), Si=Decimal('73.04'), K=Decimal('0.56'), Ca=Decimal('8.43'), Ba=0, Fe=0)\n",
      "Row(Type=1, RI=Decimal('1.51736'), Na=Decimal('12.78'), Mg=Decimal('3.62'), Al=Decimal('1.29'), Si=Decimal('72.79'), K=Decimal('0.59'), Ca=Decimal('8.7'), Ba=0, Fe=0)\n",
      "Row(Type=1, RI=Decimal('1.51742'), Na=Decimal('13.27'), Mg=Decimal('3.62'), Al=Decimal('1.24'), Si=Decimal('73.08'), K=Decimal('0.55'), Ca=Decimal('8.07'), Ba=0, Fe=0)\n",
      "Row(Type=1, RI=Decimal('1.51743'), Na=Decimal('13.3'), Mg=Decimal('3.6'), Al=Decimal('1.14'), Si=Decimal('73.09'), K=Decimal('0.58'), Ca=Decimal('8.17'), Ba=0, Fe=0)\n",
      "Row(Type=1, RI=Decimal('1.51747'), Na=Decimal('12.84'), Mg=Decimal('3.5'), Al=Decimal('1.14'), Si=Decimal('73.27'), K=Decimal('0.56'), Ca=Decimal('8.55'), Ba=0, Fe=0)\n",
      "Row(Type=1, RI=Decimal('1.51751'), Na=Decimal('12.81'), Mg=Decimal('3.57'), Al=Decimal('1.35'), Si=Decimal('73.02'), K=Decimal('0.62'), Ca=Decimal('8.59'), Ba=0, Fe=0)\n",
      "Row(Type=1, RI=Decimal('1.51754'), Na=Decimal('13.48'), Mg=Decimal('3.74'), Al=Decimal('1.17'), Si=Decimal('72.99'), K=Decimal('0.59'), Ca=Decimal('8.03'), Ba=0, Fe=0)\n",
      "Row(Type=1, RI=Decimal('1.51755'), Na=Decimal('12.71'), Mg=Decimal('3.42'), Al=Decimal('1.2'), Si=Decimal('73.2'), K=Decimal('0.59'), Ca=Decimal('8.64'), Ba=0, Fe=0)\n",
      "Row(Type=1, RI=Decimal('1.51756'), Na=Decimal('13.15'), Mg=Decimal('3.61'), Al=Decimal('1.05'), Si=Decimal('73.24'), K=Decimal('0.57'), Ca=Decimal('8.24'), Ba=0, Fe=0)\n",
      "Row(Type=1, RI=Decimal('1.51761'), Na=Decimal('12.81'), Mg=Decimal('3.54'), Al=Decimal('1.23'), Si=Decimal('73.24'), K=Decimal('0.58'), Ca=Decimal('8.39'), Ba=0, Fe=0)\n",
      "Row(Type=1, RI=Decimal('1.51761'), Na=Decimal('13.89'), Mg=Decimal('3.6'), Al=Decimal('1.36'), Si=Decimal('72.73'), K=Decimal('0.48'), Ca=Decimal('7.83'), Ba=0, Fe=0)\n",
      "Row(Type=1, RI=Decimal('1.51763'), Na=Decimal('12.61'), Mg=Decimal('3.59'), Al=Decimal('1.31'), Si=Decimal('73.29'), K=Decimal('0.58'), Ca=Decimal('8.5'), Ba=0, Fe=0)\n",
      "Row(Type=1, RI=Decimal('1.51763'), Na=Decimal('12.8'), Mg=Decimal('3.66'), Al=Decimal('1.27'), Si=Decimal('73.01'), K=Decimal('0.6'), Ca=Decimal('8.56'), Ba=0, Fe=0)\n",
      "Row(Type=1, RI=Decimal('1.51764'), Na=Decimal('12.98'), Mg=Decimal('3.54'), Al=Decimal('1.21'), Si=Decimal('73'), K=Decimal('0.65'), Ca=Decimal('8.53'), Ba=0, Fe=0)\n",
      "Row(Type=1, RI=Decimal('1.51766'), Na=Decimal('13.21'), Mg=Decimal('3.69'), Al=Decimal('1.29'), Si=Decimal('72.61'), K=Decimal('0.57'), Ca=Decimal('8.22'), Ba=0, Fe=0)\n",
      "Row(Type=1, RI=Decimal('1.51768'), Na=Decimal('12.56'), Mg=Decimal('3.52'), Al=Decimal('1.43'), Si=Decimal('73.15'), K=Decimal('0.57'), Ca=Decimal('8.54'), Ba=0, Fe=0)\n",
      "Row(Type=1, RI=Decimal('1.51779'), Na=Decimal('13.21'), Mg=Decimal('3.39'), Al=Decimal('1.33'), Si=Decimal('72.76'), K=Decimal('0.59'), Ca=Decimal('8.59'), Ba=0, Fe=0)\n",
      "Row(Type=1, RI=Decimal('1.51783'), Na=Decimal('12.69'), Mg=Decimal('3.54'), Al=Decimal('1.34'), Si=Decimal('72.95'), K=Decimal('0.57'), Ca=Decimal('8.75'), Ba=0, Fe=0)\n",
      "Row(Type=1, RI=Decimal('1.51784'), Na=Decimal('12.68'), Mg=Decimal('3.67'), Al=Decimal('1.16'), Si=Decimal('73.11'), K=Decimal('0.61'), Ca=Decimal('8.7'), Ba=0, Fe=0)\n",
      "Row(Type=1, RI=Decimal('1.51784'), Na=Decimal('13.08'), Mg=Decimal('3.49'), Al=Decimal('1.28'), Si=Decimal('72.86'), K=Decimal('0.6'), Ca=Decimal('8.49'), Ba=0, Fe=0)\n",
      "Row(Type=1, RI=Decimal('1.51793'), Na=Decimal('12.79'), Mg=Decimal('3.5'), Al=Decimal('1.12'), Si=Decimal('73.03'), K=Decimal('0.64'), Ca=Decimal('8.77'), Ba=0, Fe=0)\n",
      "Row(Type=1, RI=Decimal('1.51793'), Na=Decimal('13.21'), Mg=Decimal('3.48'), Al=Decimal('1.41'), Si=Decimal('72.64'), K=Decimal('0.59'), Ca=Decimal('8.43'), Ba=0, Fe=0)\n",
      "Row(Type=1, RI=Decimal('1.51797'), Na=Decimal('12.74'), Mg=Decimal('3.48'), Al=Decimal('1.35'), Si=Decimal('72.96'), K=Decimal('0.64'), Ca=Decimal('8.68'), Ba=0, Fe=0)\n",
      "Row(Type=1, RI=Decimal('1.51808'), Na=Decimal('13.43'), Mg=Decimal('2.87'), Al=Decimal('1.19'), Si=Decimal('72.84'), K=Decimal('0.55'), Ca=Decimal('9.03'), Ba=0, Fe=0)\n",
      "Row(Type=1, RI=Decimal('1.51824'), Na=Decimal('12.87'), Mg=Decimal('3.48'), Al=Decimal('1.29'), Si=Decimal('72.95'), K=Decimal('0.6'), Ca=Decimal('8.43'), Ba=0, Fe=0)\n",
      "Row(Type=1, RI=Decimal('1.51837'), Na=Decimal('13.14'), Mg=Decimal('2.84'), Al=Decimal('1.28'), Si=Decimal('72.85'), K=Decimal('0.55'), Ca=Decimal('9.07'), Ba=0, Fe=0)\n",
      "Row(Type=1, RI=Decimal('1.51898'), Na=Decimal('13.58'), Mg=Decimal('3.35'), Al=Decimal('1.23'), Si=Decimal('72.08'), K=Decimal('0.59'), Ca=Decimal('8.91'), Ba=0, Fe=0)\n",
      "Row(Type=1, RI=Decimal('1.519'), Na=Decimal('13.49'), Mg=Decimal('3.48'), Al=Decimal('1.35'), Si=Decimal('71.95'), K=Decimal('0.55'), Ca=Decimal('9'), Ba=0, Fe=0)\n",
      "Row(Type=1, RI=Decimal('1.51905'), Na=Decimal('13.6'), Mg=Decimal('3.62'), Al=Decimal('1.11'), Si=Decimal('72.64'), K=Decimal('0.14'), Ca=Decimal('8.76'), Ba=0, Fe=0)\n",
      "Row(Type=1, RI=Decimal('1.51911'), Na=Decimal('13.9'), Mg=Decimal('3.73'), Al=Decimal('1.18'), Si=Decimal('72.12'), K=Decimal('0.06'), Ca=Decimal('8.89'), Ba=0, Fe=0)\n",
      "Row(Type=1, RI=Decimal('1.51918'), Na=Decimal('14.04'), Mg=Decimal('3.58'), Al=Decimal('1.37'), Si=Decimal('72.08'), K=Decimal('0.56'), Ca=Decimal('8.3'), Ba=0, Fe=0)\n",
      "Row(Type=1, RI=Decimal('1.51966'), Na=Decimal('14.77'), Mg=Decimal('3.75'), Al=Decimal('0.29'), Si=Decimal('72.02'), K=Decimal('0.03'), Ca=Decimal('9'), Ba=0, Fe=0)\n",
      "Row(Type=1, RI=Decimal('1.52099'), Na=Decimal('13.69'), Mg=Decimal('3.59'), Al=Decimal('1.12'), Si=Decimal('71.96'), K=Decimal('0.09'), Ca=Decimal('9.4'), Ba=0, Fe=0)\n",
      "Row(Type=1, RI=Decimal('1.52101'), Na=Decimal('13.64'), Mg=Decimal('4.49'), Al=Decimal('1.1'), Si=Decimal('71.78'), K=Decimal('0.06'), Ca=Decimal('8.75'), Ba=0, Fe=0)\n",
      "Row(Type=1, RI=Decimal('1.52196'), Na=Decimal('14.36'), Mg=Decimal('3.85'), Al=Decimal('0.89'), Si=Decimal('71.36'), K=Decimal('0.15'), Ca=Decimal('9.15'), Ba=0, Fe=0)\n",
      "Row(Type=1, RI=Decimal('1.5221'), Na=Decimal('13.73'), Mg=Decimal('3.84'), Al=Decimal('0.72'), Si=Decimal('71.76'), K=Decimal('0.17'), Ca=Decimal('9.74'), Ba=0, Fe=0)\n",
      "Row(Type=1, RI=Decimal('1.52213'), Na=Decimal('14.21'), Mg=Decimal('3.82'), Al=Decimal('0.47'), Si=Decimal('71.77'), K=Decimal('0.11'), Ca=Decimal('9.57'), Ba=0, Fe=0)\n",
      "Row(Type=1, RI=Decimal('1.52223'), Na=Decimal('13.21'), Mg=Decimal('3.77'), Al=Decimal('0.79'), Si=Decimal('71.99'), K=Decimal('0.13'), Ca=Decimal('10.02'), Ba=0, Fe=0)\n",
      "Row(Type=1, RI=Decimal('1.52227'), Na=Decimal('14.17'), Mg=Decimal('3.81'), Al=Decimal('0.78'), Si=Decimal('71.35'), K=Decimal('0'), Ca=Decimal('9.69'), Ba=0, Fe=0)\n",
      "Row(Type=2, RI=Decimal('1.51409'), Na=Decimal('14.25'), Mg=Decimal('3.09'), Al=Decimal('2.08'), Si=Decimal('72.28'), K=Decimal('1.1'), Ca=Decimal('7.08'), Ba=0, Fe=0)\n",
      "Row(Type=2, RI=Decimal('1.51569'), Na=Decimal('13.24'), Mg=Decimal('3.49'), Al=Decimal('1.47'), Si=Decimal('73.25'), K=Decimal('0.38'), Ca=Decimal('8.03'), Ba=0, Fe=0)\n",
      "Row(Type=2, RI=Decimal('1.5159'), Na=Decimal('12.82'), Mg=Decimal('3.52'), Al=Decimal('1.9'), Si=Decimal('72.86'), K=Decimal('0.69'), Ca=Decimal('7.97'), Ba=0, Fe=0)\n",
      "Row(Type=2, RI=Decimal('1.5159'), Na=Decimal('13.02'), Mg=Decimal('3.58'), Al=Decimal('1.51'), Si=Decimal('73.12'), K=Decimal('0.69'), Ca=Decimal('7.96'), Ba=0, Fe=0)\n",
      "Row(Type=2, RI=Decimal('1.5159'), Na=Decimal('13.24'), Mg=Decimal('3.34'), Al=Decimal('1.47'), Si=Decimal('73.1'), K=Decimal('0.39'), Ca=Decimal('8.22'), Ba=0, Fe=0)\n",
      "Row(Type=2, RI=Decimal('1.51592'), Na=Decimal('12.86'), Mg=Decimal('3.52'), Al=Decimal('2.12'), Si=Decimal('72.66'), K=Decimal('0.69'), Ca=Decimal('7.97'), Ba=0, Fe=0)\n",
      "Row(Type=2, RI=Decimal('1.51593'), Na=Decimal('13.09'), Mg=Decimal('3.59'), Al=Decimal('1.52'), Si=Decimal('73.1'), K=Decimal('0.67'), Ca=Decimal('7.83'), Ba=0, Fe=0)\n",
      "Row(Type=2, RI=Decimal('1.51593'), Na=Decimal('13.25'), Mg=Decimal('3.45'), Al=Decimal('1.43'), Si=Decimal('73.17'), K=Decimal('0.61'), Ca=Decimal('7.86'), Ba=0, Fe=0)\n",
      "Row(Type=2, RI=Decimal('1.51596'), Na=Decimal('13.02'), Mg=Decimal('3.56'), Al=Decimal('1.54'), Si=Decimal('73.11'), K=Decimal('0.72'), Ca=Decimal('7.9'), Ba=0, Fe=0)\n",
      "Row(Type=2, RI=Decimal('1.51605'), Na=Decimal('12.9'), Mg=Decimal('3.44'), Al=Decimal('1.45'), Si=Decimal('73.06'), K=Decimal('0.44'), Ca=Decimal('8.27'), Ba=0, Fe=0)\n",
      "Row(Type=2, RI=Decimal('1.51618'), Na=Decimal('13.01'), Mg=Decimal('3.5'), Al=Decimal('1.48'), Si=Decimal('72.89'), K=Decimal('0.6'), Ca=Decimal('8.12'), Ba=0, Fe=0)\n",
      "Row(Type=2, RI=Decimal('1.51625'), Na=Decimal('13.36'), Mg=Decimal('3.58'), Al=Decimal('1.49'), Si=Decimal('72.72'), K=Decimal('0.45'), Ca=Decimal('8.21'), Ba=0, Fe=0)\n",
      "Row(Type=2, RI=Decimal('1.51627'), Na=Decimal('13'), Mg=Decimal('3.58'), Al=Decimal('1.54'), Si=Decimal('72.83'), K=Decimal('0.61'), Ca=Decimal('8.04'), Ba=0, Fe=0)\n",
      "Row(Type=2, RI=Decimal('1.51629'), Na=Decimal('12.71'), Mg=Decimal('3.33'), Al=Decimal('1.49'), Si=Decimal('73.28'), K=Decimal('0.67'), Ca=Decimal('8.24'), Ba=0, Fe=0)\n",
      "Row(Type=2, RI=Decimal('1.51631'), Na=Decimal('13.34'), Mg=Decimal('3.57'), Al=Decimal('1.57'), Si=Decimal('72.87'), K=Decimal('0.61'), Ca=Decimal('7.89'), Ba=0, Fe=0)\n",
      "Row(Type=2, RI=Decimal('1.51645'), Na=Decimal('13.44'), Mg=Decimal('3.61'), Al=Decimal('1.54'), Si=Decimal('72.39'), K=Decimal('0.66'), Ca=Decimal('8.03'), Ba=0, Fe=0)\n",
      "Row(Type=2, RI=Decimal('1.51646'), Na=Decimal('13.41'), Mg=Decimal('3.55'), Al=Decimal('1.25'), Si=Decimal('72.81'), K=Decimal('0.68'), Ca=Decimal('8.1'), Ba=0, Fe=0)\n",
      "Row(Type=2, RI=Decimal('1.51652'), Na=Decimal('13.56'), Mg=Decimal('3.57'), Al=Decimal('1.47'), Si=Decimal('72.45'), K=Decimal('0.64'), Ca=Decimal('7.96'), Ba=0, Fe=0)\n",
      "Row(Type=2, RI=Decimal('1.51667'), Na=Decimal('12.94'), Mg=Decimal('3.61'), Al=Decimal('1.26'), Si=Decimal('72.75'), K=Decimal('0.56'), Ca=Decimal('8.6'), Ba=0, Fe=0)\n",
      "Row(Type=2, RI=Decimal('1.51674'), Na=Decimal('12.79'), Mg=Decimal('3.52'), Al=Decimal('1.54'), Si=Decimal('73.36'), K=Decimal('0.66'), Ca=Decimal('7.9'), Ba=0, Fe=0)\n",
      "Row(Type=2, RI=Decimal('1.51674'), Na=Decimal('12.87'), Mg=Decimal('3.56'), Al=Decimal('1.64'), Si=Decimal('73.14'), K=Decimal('0.65'), Ca=Decimal('7.99'), Ba=0, Fe=0)\n",
      "Row(Type=2, RI=Decimal('1.51687'), Na=Decimal('13.23'), Mg=Decimal('3.54'), Al=Decimal('1.48'), Si=Decimal('72.84'), K=Decimal('0.56'), Ca=Decimal('8.1'), Ba=0, Fe=0)\n",
      "Row(Type=2, RI=Decimal('1.51689'), Na=Decimal('12.67'), Mg=Decimal('2.88'), Al=Decimal('1.71'), Si=Decimal('73.21'), K=Decimal('0.73'), Ca=Decimal('8.54'), Ba=0, Fe=0)\n",
      "Row(Type=2, RI=Decimal('1.5169'), Na=Decimal('13.33'), Mg=Decimal('3.54'), Al=Decimal('1.61'), Si=Decimal('72.54'), K=Decimal('0.68'), Ca=Decimal('8.11'), Ba=0, Fe=0)\n",
      "Row(Type=2, RI=Decimal('1.51707'), Na=Decimal('13.48'), Mg=Decimal('3.48'), Al=Decimal('1.71'), Si=Decimal('72.52'), K=Decimal('0.62'), Ca=Decimal('7.99'), Ba=0, Fe=0)\n",
      "Row(Type=2, RI=Decimal('1.51708'), Na=Decimal('13.72'), Mg=Decimal('3.68'), Al=Decimal('1.81'), Si=Decimal('72.06'), K=Decimal('0.64'), Ca=Decimal('7.88'), Ba=0, Fe=0)\n",
      "Row(Type=2, RI=Decimal('1.51709'), Na=Decimal('13'), Mg=Decimal('3.47'), Al=Decimal('1.79'), Si=Decimal('72.72'), K=Decimal('0.66'), Ca=Decimal('8.18'), Ba=0, Fe=0)\n",
      "Row(Type=2, RI=Decimal('1.51711'), Na=Decimal('12.89'), Mg=Decimal('3.62'), Al=Decimal('1.57'), Si=Decimal('72.96'), K=Decimal('0.61'), Ca=Decimal('8.11'), Ba=0, Fe=0)\n",
      "Row(Type=2, RI=Decimal('1.5173'), Na=Decimal('12.35'), Mg=Decimal('2.72'), Al=Decimal('1.63'), Si=Decimal('72.87'), K=Decimal('0.7'), Ca=Decimal('9.23'), Ba=0, Fe=0)\n",
      "Row(Type=2, RI=Decimal('1.51811'), Na=Decimal('13.33'), Mg=Decimal('3.85'), Al=Decimal('1.25'), Si=Decimal('72.78'), K=Decimal('0.52'), Ca=Decimal('8.12'), Ba=0, Fe=0)\n",
      "Row(Type=2, RI=Decimal('1.51813'), Na=Decimal('13.43'), Mg=Decimal('3.98'), Al=Decimal('1.18'), Si=Decimal('72.49'), K=Decimal('0.58'), Ca=Decimal('8.15'), Ba=0, Fe=0)\n",
      "Row(Type=2, RI=Decimal('1.51818'), Na=Decimal('13.72'), Mg=Decimal('0'), Al=Decimal('0.56'), Si=Decimal('74.45'), K=Decimal('0'), Ca=Decimal('10.99'), Ba=0, Fe=0)\n",
      "Row(Type=2, RI=Decimal('1.51844'), Na=Decimal('13.25'), Mg=Decimal('3.76'), Al=Decimal('1.32'), Si=Decimal('72.4'), K=Decimal('0.58'), Ca=Decimal('8.42'), Ba=0, Fe=0)\n",
      "Row(Type=2, RI=Decimal('1.51846'), Na=Decimal('13.41'), Mg=Decimal('3.89'), Al=Decimal('1.33'), Si=Decimal('72.38'), K=Decimal('0.51'), Ca=Decimal('8.28'), Ba=0, Fe=0)\n",
      "Row(Type=2, RI=Decimal('1.51847'), Na=Decimal('13.1'), Mg=Decimal('3.97'), Al=Decimal('1.19'), Si=Decimal('72.44'), K=Decimal('0.6'), Ca=Decimal('8.43'), Ba=0, Fe=0)\n",
      "Row(Type=2, RI=Decimal('1.5186'), Na=Decimal('13.36'), Mg=Decimal('3.43'), Al=Decimal('1.43'), Si=Decimal('72.26'), K=Decimal('0.51'), Ca=Decimal('8.6'), Ba=0, Fe=0)\n",
      "Row(Type=2, RI=Decimal('1.52177'), Na=Decimal('13.2'), Mg=Decimal('3.68'), Al=Decimal('1.15'), Si=Decimal('72.75'), K=Decimal('0.54'), Ca=Decimal('8.52'), Ba=0, Fe=0)\n",
      "Row(Type=2, RI=Decimal('1.52177'), Na=Decimal('13.75'), Mg=Decimal('1.01'), Al=Decimal('1.36'), Si=Decimal('72.19'), K=Decimal('0.33'), Ca=Decimal('11.14'), Ba=0, Fe=0)\n",
      "Row(Type=2, RI=Decimal('1.5241'), Na=Decimal('13.83'), Mg=Decimal('2.9'), Al=Decimal('1.17'), Si=Decimal('71.15'), K=Decimal('0.08'), Ca=Decimal('10.79'), Ba=0, Fe=0)\n",
      "Row(Type=2, RI=Decimal('1.52664'), Na=Decimal('11.23'), Mg=Decimal('0'), Al=Decimal('0.77'), Si=Decimal('73.21'), K=Decimal('0'), Ca=Decimal('14.68'), Ba=0, Fe=0)\n",
      "Row(Type=2, RI=Decimal('1.52725'), Na=Decimal('13.8'), Mg=Decimal('3.15'), Al=Decimal('0.66'), Si=Decimal('70.57'), K=Decimal('0.08'), Ca=Decimal('11.64'), Ba=0, Fe=0)\n",
      "Row(Type=2, RI=Decimal('1.52739'), Na=Decimal('11.02'), Mg=Decimal('0'), Al=Decimal('0.75'), Si=Decimal('73.08'), K=Decimal('0'), Ca=Decimal('14.96'), Ba=0, Fe=0)\n",
      "Row(Type=2, RI=Decimal('1.52777'), Na=Decimal('12.64'), Mg=Decimal('0'), Al=Decimal('0.67'), Si=Decimal('72.02'), K=Decimal('0.06'), Ca=Decimal('14.4'), Ba=0, Fe=0)\n",
      "Row(Type=7, RI=Decimal('1.51653'), Na=Decimal('11.95'), Mg=Decimal('0'), Al=Decimal('1.19'), Si=Decimal('75.18'), K=Decimal('2.7'), Ca=Decimal('8.93'), Ba=0, Fe=0)\n",
      "Row(Type=7, RI=Decimal('1.52247'), Na=Decimal('14.86'), Mg=Decimal('2.2'), Al=Decimal('2.06'), Si=Decimal('70.26'), K=Decimal('0.76'), Ca=Decimal('9.76'), Ba=0, Fe=0)\n",
      "Row(Type=7, RI=Decimal('1.52315'), Na=Decimal('13.44'), Mg=Decimal('3.34'), Al=Decimal('1.23'), Si=Decimal('72.38'), K=Decimal('0.6'), Ca=Decimal('8.83'), Ba=0, Fe=0)\n",
      "Row(Type=6, RI=Decimal('1.51115'), Na=Decimal('17.38'), Mg=Decimal('0'), Al=Decimal('0.34'), Si=Decimal('75.41'), K=Decimal('0'), Ca=Decimal('6.65'), Ba=0, Fe=0)\n",
      "Row(Type=6, RI=Decimal('1.51299'), Na=Decimal('14.4'), Mg=Decimal('1.74'), Al=Decimal('1.54'), Si=Decimal('74.55'), K=Decimal('0'), Ca=Decimal('7.59'), Ba=0, Fe=0)\n",
      "Row(Type=6, RI=Decimal('1.51829'), Na=Decimal('14.46'), Mg=Decimal('2.24'), Al=Decimal('1.62'), Si=Decimal('72.38'), K=Decimal('0'), Ca=Decimal('9.26'), Ba=0, Fe=0)\n",
      "Row(Type=6, RI=Decimal('1.51852'), Na=Decimal('14.09'), Mg=Decimal('2.19'), Al=Decimal('1.66'), Si=Decimal('72.67'), K=Decimal('0'), Ca=Decimal('9.32'), Ba=0, Fe=0)\n",
      "Row(Type=6, RI=Decimal('1.51888'), Na=Decimal('14.99'), Mg=Decimal('0.78'), Al=Decimal('1.74'), Si=Decimal('72.5'), K=Decimal('0'), Ca=Decimal('9.95'), Ba=0, Fe=0)\n",
      "Row(Type=6, RI=Decimal('1.51905'), Na=Decimal('14'), Mg=Decimal('2.39'), Al=Decimal('1.56'), Si=Decimal('72.37'), K=Decimal('0'), Ca=Decimal('9.57'), Ba=0, Fe=0)\n",
      "Row(Type=6, RI=Decimal('1.51916'), Na=Decimal('14.15'), Mg=Decimal('0'), Al=Decimal('2.09'), Si=Decimal('72.74'), K=Decimal('0'), Ca=Decimal('10.88'), Ba=0, Fe=0)\n",
      "Row(Type=6, RI=Decimal('1.51937'), Na=Decimal('13.79'), Mg=Decimal('2.41'), Al=Decimal('1.19'), Si=Decimal('72.76'), K=Decimal('0'), Ca=Decimal('9.77'), Ba=0, Fe=0)\n",
      "Row(Type=6, RI=Decimal('1.51969'), Na=Decimal('14.56'), Mg=Decimal('0'), Al=Decimal('0.56'), Si=Decimal('73.48'), K=Decimal('0'), Ca=Decimal('11.22'), Ba=0, Fe=0)\n",
      "Row(Type=3, RI=Decimal('1.5161'), Na=Decimal('13.33'), Mg=Decimal('3.53'), Al=Decimal('1.34'), Si=Decimal('72.67'), K=Decimal('0.56'), Ca=Decimal('8.33'), Ba=0, Fe=0)\n",
      "Row(Type=3, RI=Decimal('1.5161'), Na=Decimal('13.42'), Mg=Decimal('3.4'), Al=Decimal('1.22'), Si=Decimal('72.69'), K=Decimal('0.59'), Ca=Decimal('8.32'), Ba=0, Fe=0)\n",
      "Row(Type=3, RI=Decimal('1.51643'), Na=Decimal('12.16'), Mg=Decimal('3.52'), Al=Decimal('1.35'), Si=Decimal('72.89'), K=Decimal('0.57'), Ca=Decimal('8.53'), Ba=0, Fe=0)\n",
      "Row(Type=3, RI=Decimal('1.51646'), Na=Decimal('13.04'), Mg=Decimal('3.4'), Al=Decimal('1.26'), Si=Decimal('73.01'), K=Decimal('0.52'), Ca=Decimal('8.58'), Ba=0, Fe=0)\n",
      "Row(Type=3, RI=Decimal('1.51655'), Na=Decimal('13.41'), Mg=Decimal('3.39'), Al=Decimal('1.28'), Si=Decimal('72.64'), K=Decimal('0.52'), Ca=Decimal('8.65'), Ba=0, Fe=0)\n",
      "Row(Type=3, RI=Decimal('1.51694'), Na=Decimal('12.86'), Mg=Decimal('3.58'), Al=Decimal('1.31'), Si=Decimal('72.61'), K=Decimal('0.61'), Ca=Decimal('8.79'), Ba=0, Fe=0)\n",
      "Row(Type=3, RI=Decimal('1.51769'), Na=Decimal('13.65'), Mg=Decimal('3.66'), Al=Decimal('1.11'), Si=Decimal('72.77'), K=Decimal('0.11'), Ca=Decimal('8.6'), Ba=0, Fe=0)\n",
      "Row(Type=3, RI=Decimal('1.51776'), Na=Decimal('13.53'), Mg=Decimal('3.41'), Al=Decimal('1.52'), Si=Decimal('72.04'), K=Decimal('0.58'), Ca=Decimal('8.79'), Ba=0, Fe=0)\n",
      "Row(Type=3, RI=Decimal('1.51779'), Na=Decimal('13.64'), Mg=Decimal('3.65'), Al=Decimal('0.65'), Si=Decimal('73'), K=Decimal('0.06'), Ca=Decimal('8.93'), Ba=0, Fe=0)\n",
      "Row(Type=3, RI=Decimal('1.51832'), Na=Decimal('13.33'), Mg=Decimal('3.34'), Al=Decimal('1.54'), Si=Decimal('72.14'), K=Decimal('0.56'), Ca=Decimal('8.99'), Ba=0, Fe=0)\n",
      "Row(Type=3, RI=Decimal('1.52121'), Na=Decimal('14.03'), Mg=Decimal('3.76'), Al=Decimal('0.58'), Si=Decimal('71.79'), K=Decimal('0.11'), Ca=Decimal('9.65'), Ba=0, Fe=0)\n",
      "Row(Type=3, RI=Decimal('1.52127'), Na=Decimal('14.32'), Mg=Decimal('3.9'), Al=Decimal('0.83'), Si=Decimal('71.5'), K=Decimal('0'), Ca=Decimal('9.49'), Ba=0, Fe=0)\n"
     ]
    }
   ],
   "source": [
    "from cassandra.cluster import Cluster\n",
    "from cassandra.auth import PlainTextAuthProvider\n",
    "\n",
    "cloud_config= {\n",
    "        'secure_connect_bundle': r'C:\\Users\\welcome\\Desktop\\secure-connect-glass.zip'\n",
    "}\n",
    "auth_provider = PlainTextAuthProvider('rWFUKwigdiSTegTzGRybtkSq', 'kmW6C5or1X90T44PPT,9qLNqii+keaoCrQML,leRNgIuK_1Zah9HDXUnzfylIjGetUKafhXdug1P9+ZUIwiqrDc6ZlNFuYI.6CkPd,9whWk8KwvrhwmJCBM-dFXz355Q')\n",
    "cluster = Cluster(cloud=cloud_config, auth_provider=auth_provider)\n",
    "session = cluster.connect()\n",
    "session.set_keyspace(\"glass1\")\n",
    "session.default_fetch_size=None\n",
    "\n",
    "count=0\n",
    "results = session.execute(\"SELECT * FROM glass;\",timeout=None)\n",
    "for i in results:\n",
    "    count+=1\n",
    "    print(i)\n",
    "\n"
   ]
  },
  {
   "cell_type": "code",
   "execution_count": 52,
   "metadata": {},
   "outputs": [
    {
     "ename": "ValueError",
     "evalue": "DataFrame constructor not properly called!",
     "output_type": "error",
     "traceback": [
      "\u001b[1;31m---------------------------------------------------------------------------\u001b[0m",
      "\u001b[1;31mValueError\u001b[0m                                Traceback (most recent call last)",
      "\u001b[1;32m<ipython-input-52-780e8730b078>\u001b[0m in \u001b[0;36m<module>\u001b[1;34m\u001b[0m\n\u001b[1;32m----> 1\u001b[1;33m \u001b[0mpd\u001b[0m\u001b[1;33m.\u001b[0m\u001b[0mDataFrame\u001b[0m\u001b[1;33m(\u001b[0m\u001b[0mi\u001b[0m\u001b[1;33m[\u001b[0m\u001b[1;36m0\u001b[0m\u001b[1;33m]\u001b[0m\u001b[1;33m)\u001b[0m\u001b[1;33m\u001b[0m\u001b[1;33m\u001b[0m\u001b[0m\n\u001b[0m",
      "\u001b[1;32m~\\anaconda3\\lib\\site-packages\\pandas\\core\\frame.py\u001b[0m in \u001b[0;36m__init__\u001b[1;34m(self, data, index, columns, dtype, copy)\u001b[0m\n\u001b[0;32m    728\u001b[0m         \u001b[1;32melse\u001b[0m\u001b[1;33m:\u001b[0m\u001b[1;33m\u001b[0m\u001b[1;33m\u001b[0m\u001b[0m\n\u001b[0;32m    729\u001b[0m             \u001b[1;32mif\u001b[0m \u001b[0mindex\u001b[0m \u001b[1;32mis\u001b[0m \u001b[1;32mNone\u001b[0m \u001b[1;32mor\u001b[0m \u001b[0mcolumns\u001b[0m \u001b[1;32mis\u001b[0m \u001b[1;32mNone\u001b[0m\u001b[1;33m:\u001b[0m\u001b[1;33m\u001b[0m\u001b[1;33m\u001b[0m\u001b[0m\n\u001b[1;32m--> 730\u001b[1;33m                 \u001b[1;32mraise\u001b[0m \u001b[0mValueError\u001b[0m\u001b[1;33m(\u001b[0m\u001b[1;34m\"DataFrame constructor not properly called!\"\u001b[0m\u001b[1;33m)\u001b[0m\u001b[1;33m\u001b[0m\u001b[1;33m\u001b[0m\u001b[0m\n\u001b[0m\u001b[0;32m    731\u001b[0m \u001b[1;33m\u001b[0m\u001b[0m\n\u001b[0;32m    732\u001b[0m             \u001b[1;31m# Argument 1 to \"ensure_index\" has incompatible type \"Collection[Any]\";\u001b[0m\u001b[1;33m\u001b[0m\u001b[1;33m\u001b[0m\u001b[1;33m\u001b[0m\u001b[0m\n",
      "\u001b[1;31mValueError\u001b[0m: DataFrame constructor not properly called!"
     ]
    }
   ],
   "source": [
    "pd.DataFrame(i[0])"
   ]
  },
  {
   "cell_type": "code",
   "execution_count": null,
   "metadata": {},
   "outputs": [],
   "source": [
    "from cassandra.cluster import Cluster\n",
    "from cassandra.auth import PlainTextAuthProvider\n",
    "\n",
    "cloud_config= {\n",
    "        'secure_connect_bundle': 'D:\\DATA SCIENTIST & AI\\iNeuron\\Project\\ML Fraud Transcation Detection\\secure-connect-credit-card-fraud.zip'\n",
    "}\n",
    "auth_provider = PlainTextAuthProvider('WDeOJcSHQzaGdWhKUdZuiIFw', 'N7Th6+CU2yvsBLcX9AP+RSYj-jjgwuBOUmtB0-p,icDqYhp60uev9xjxIuR5ab40XlXk+hcHWiq0JNmDnrOC85CDUp1s8EXypXIYBgQTa7QDIDx.0v9D,+Ctr6n4f+E6')\n",
    "cluster = Cluster(cloud=cloud_config, auth_provider=auth_provider)\n",
    "session = cluster.connect()\n",
    "session.set_keyspace(\"ML_Project\")\n",
    "session.default_fetch_size=None\n",
    "\n",
    "count=0\n",
    "results = session.execute(\"SELECT * FROM creditcard;\",timeout=None)\n",
    "for i in results:\n",
    "    count+=1\n",
    "    print(i)\n",
    "\n",
    "#df = pd.DataFrame()\n",
    "\n",
    "#for row in session.execute(\"SELECT * FROM creditcard;\",timeout=None):\n",
    " #   df = df.append(pd.DataFrame(row))"
   ]
  },
  {
   "cell_type": "raw",
   "metadata": {},
   "source": [
    "df = pd.DataFrame()\n",
    "for row in session.execute(\"SELECT * FROM creditcard;\",timeout=None):\n",
    "    df = df.append(pd.DataFrame(row))\n",
    "    df"
   ]
  },
  {
   "cell_type": "code",
   "execution_count": null,
   "metadata": {},
   "outputs": [],
   "source": [
    "from cassandra.cluster import Cluster\n",
    "from cassandra.auth import PlainTextAuthProvider\n",
    "\n",
    "cloud_config= {\n",
    "        'secure_connect_bundle': 'D:\\DATA SCIENTIST & AI\\iNeuron\\Project\\ML Fraud Transcation Detection\\secure-connect-credit-card-fraud.zip'\n",
    "}\n",
    "auth_provider = PlainTextAuthProvider('wZCSwIdLWYChzuMEoWSKaXJS', 'ENz_xpKGDRz53,v8xRaE5R0m1506uBrc6-zZv,xaFam5hlvCLOq,lTdaivA5FY0Mq40KsY2uIZFbHX8MWhNUoMfX6Fad2a03c+U3qW1opBL6fOGkAl_pN93U5hr9GXqK')\n",
    "cluster = Cluster(cloud=cloud_config, auth_provider=auth_provider)\n",
    "session = cluster.connect()\n",
    "session.set_keyspace(\"ML_Project\")\n",
    "#session.default_fetch_size=None\n",
    "\n",
    "results=session.execute(\"SELECT * FROM credit_card1\")\n",
    "\n"
   ]
  },
  {
   "cell_type": "code",
   "execution_count": null,
   "metadata": {},
   "outputs": [],
   "source": [
    "results"
   ]
  },
  {
   "cell_type": "code",
   "execution_count": null,
   "metadata": {},
   "outputs": [],
   "source": [
    "df = pd.DataFrame()\n",
    "\n",
    "for row in session.execute(\"SELECT * FROM credit_card1\"):\n",
    "    df = df.append(pd.DataFrame(row, index=[0:52603]))\n",
    "\n",
    "df = df.reset_index(drop=True).fillna(pd.np.nan)"
   ]
  },
  {
   "cell_type": "code",
   "execution_count": null,
   "metadata": {},
   "outputs": [],
   "source": [
    "import pandas as pd\n",
    "\n",
    "from cassandra.cluster import Cluster\n",
    "from cassandra.auth import PlainTextAuthProvider\n",
    "from cassandra.query import dict_factory\n",
    "\n",
    "cloud_config= {\n",
    "        'secure_connect_bundle': 'D:\\DATA SCIENTIST & AI\\iNeuron\\Project\\ML Fraud Transcation Detection\\secure-connect-credit-card-fraud.zip'\n",
    "}\n",
    "\n",
    "auth_provider = PlainTextAuthProvider(username=\"wZCSwIdLWYChzuMEoWSKaXJS\", password=\"ENz_xpKGDRz53,v8xRaE5R0m1506uBrc6-zZv,xaFam5hlvCLOq,lTdaivA5FY0Mq40KsY2uIZFbHX8MWhNUoMfX6Fad2a03c+U3qW1opBL6fOGkAl_pN93U5hr9GXqK\")\n",
    "cluster = Cluster(cloud=cloud_config,auth_provider=auth_provider)\n",
    "\n",
    "session = cluster.connect(CASSANDRA_DB)\n",
    "session.row_factory = dict_factory\n",
    "\n",
    "sql_query = \"SELECT * FROM {}.{};\".format(CASSANDRA_DB, CASSANDRA_TABLE)\n",
    "\n",
    "df = pd.DataFrame()\n",
    "\n",
    "for row in session.execute(sql_query):\n",
    "    df = df.append(pd.DataFrame(row, index=[0]))\n",
    "\n",
    "df = df.reset_index(drop=True).fillna(pd.np.nan)"
   ]
  },
  {
   "cell_type": "code",
   "execution_count": null,
   "metadata": {},
   "outputs": [],
   "source": []
  },
  {
   "cell_type": "code",
   "execution_count": null,
   "metadata": {},
   "outputs": [],
   "source": []
  },
  {
   "cell_type": "code",
   "execution_count": null,
   "metadata": {},
   "outputs": [],
   "source": []
  },
  {
   "cell_type": "code",
   "execution_count": null,
   "metadata": {},
   "outputs": [],
   "source": []
  },
  {
   "cell_type": "code",
   "execution_count": null,
   "metadata": {},
   "outputs": [],
   "source": []
  },
  {
   "cell_type": "code",
   "execution_count": null,
   "metadata": {},
   "outputs": [],
   "source": []
  },
  {
   "cell_type": "code",
   "execution_count": null,
   "metadata": {},
   "outputs": [],
   "source": []
  },
  {
   "cell_type": "code",
   "execution_count": null,
   "metadata": {},
   "outputs": [],
   "source": []
  }
 ],
 "metadata": {
  "kernelspec": {
   "display_name": "Python 3",
   "language": "python",
   "name": "python3"
  },
  "language_info": {
   "codemirror_mode": {
    "name": "ipython",
    "version": 3
   },
   "file_extension": ".py",
   "mimetype": "text/x-python",
   "name": "python",
   "nbconvert_exporter": "python",
   "pygments_lexer": "ipython3",
   "version": "3.8.5"
  }
 },
 "nbformat": 4,
 "nbformat_minor": 4
}
