{
 "cells": [
  {
   "cell_type": "markdown",
   "metadata": {},
   "source": [
    "<h2 style=\"color:Red\",align=\"center\" >ML Project-Fraud Transcation Detection</h2>"
   ]
  },
  {
   "cell_type": "markdown",
   "metadata": {},
   "source": [
    "# Import all required libraries"
   ]
  },
  {
   "cell_type": "code",
   "execution_count": 28,
   "metadata": {},
   "outputs": [],
   "source": [
    "import numpy as np\n",
    "import pandas as pd\n",
    "import sklearn\n",
    "import scipy\n",
    "import matplotlib.pyplot as plt\n",
    "import seaborn as sns \n",
    "from  plotly.offline import iplot\n",
    "import plotly as py \n",
    "import plotly.tools as tls \n",
    "import cufflinks as cf \n",
    "%matplotlib inline\n",
    "from sklearn.metrics import classification_report,accuracy_score\n",
    "from sklearn.ensemble import IsolationForest\n",
    "from sklearn.neighbors import LocalOutlierFactor\n",
    "from sklearn.svm import OneClassSVM\n",
    "from pylab import rcParams\n",
    "from sklearn.preprocessing import StandardScaler\n",
    "from sklearn.preprocessing import normalize\n",
    "from sklearn.metrics import classification_report,accuracy_score,confusion_matrix \n",
    "from sklearn.metrics import confusion_matrix, accuracy_score\n",
    "from sklearn.model_selection import cross_val_score\n",
    "import warnings\n",
    "warnings.filterwarnings(\"ignore\")"
   ]
  },
  {
   "cell_type": "code",
   "execution_count": 29,
   "metadata": {},
   "outputs": [
    {
     "name": "stdout",
     "output_type": "stream",
     "text": [
      "Requirement already satisfied: cassandra-driver in c:\\users\\welcome\\anaconda3\\lib\\site-packages (3.25.0)\n",
      "Requirement already satisfied: six>=1.9 in c:\\users\\welcome\\anaconda3\\lib\\site-packages (from cassandra-driver) (1.14.0)\n",
      "Requirement already satisfied: geomet<0.3,>=0.1 in c:\\users\\welcome\\anaconda3\\lib\\site-packages (from cassandra-driver) (0.2.1.post1)\n",
      "Requirement already satisfied: click in c:\\users\\welcome\\anaconda3\\lib\\site-packages (from geomet<0.3,>=0.1->cassandra-driver) (7.0)\n"
     ]
    }
   ],
   "source": [
    "!pip install cassandra-driver"
   ]
  },
  {
   "cell_type": "code",
   "execution_count": 30,
   "metadata": {},
   "outputs": [],
   "source": [
    "from cassandra.cluster import Cluster\n",
    "from cassandra.auth import PlainTextAuthProvider\n",
    "\n",
    "cloud_config= {\n",
    "        'secure_connect_bundle': r'C:\\Users\\welcome\\Desktop\\secure-connect-fraud-detection-project.zip'\n",
    "}\n",
    "auth_provider = PlainTextAuthProvider('sucxMwwdJsamJapdFOdcUsgy', 'KB9lDaTEf_v,12OInbgmPo6zr+b1hOdyOoorlbjNbM3ZD0C_TZqIdAmZ.a8Lq+6RWlk83Fj_,nMvNZX4s7ZdCZx_BCZ68oLoOeZMOH,vl_ZJa24GUB0d9-3ng8tEmXA5')\n",
    "cluster = Cluster(cloud=cloud_config, auth_provider=auth_provider)\n",
    "session = cluster.connect()\n",
    "session.set_keyspace(\"ML_Project\")\n",
    "session.default_fetch_size=None\n",
    "\n",
    "count=0\n",
    "results = session.execute(\"SELECT * FROM creditcard\",timeout=None)\n",
    "for i in results:\n",
    "    count+=1\n",
    "    data=pd.DataFrame(results)"
   ]
  },
  {
   "cell_type": "code",
   "execution_count": 31,
   "metadata": {},
   "outputs": [
    {
     "data": {
      "text/html": [
       "<div>\n",
       "<style scoped>\n",
       "    .dataframe tbody tr th:only-of-type {\n",
       "        vertical-align: middle;\n",
       "    }\n",
       "\n",
       "    .dataframe tbody tr th {\n",
       "        vertical-align: top;\n",
       "    }\n",
       "\n",
       "    .dataframe thead th {\n",
       "        text-align: right;\n",
       "    }\n",
       "</style>\n",
       "<table border=\"1\" class=\"dataframe\">\n",
       "  <thead>\n",
       "    <tr style=\"text-align: right;\">\n",
       "      <th></th>\n",
       "      <th>Class</th>\n",
       "      <th>Time</th>\n",
       "      <th>V1</th>\n",
       "      <th>V2</th>\n",
       "      <th>V3</th>\n",
       "      <th>V4</th>\n",
       "      <th>V5</th>\n",
       "      <th>V6</th>\n",
       "      <th>V7</th>\n",
       "      <th>V8</th>\n",
       "      <th>...</th>\n",
       "      <th>V20</th>\n",
       "      <th>V21</th>\n",
       "      <th>V22</th>\n",
       "      <th>V23</th>\n",
       "      <th>V24</th>\n",
       "      <th>V25</th>\n",
       "      <th>V26</th>\n",
       "      <th>V27</th>\n",
       "      <th>V28</th>\n",
       "      <th>Amount</th>\n",
       "    </tr>\n",
       "  </thead>\n",
       "  <tbody>\n",
       "    <tr>\n",
       "      <th>0</th>\n",
       "      <td>1</td>\n",
       "      <td>406</td>\n",
       "      <td>-2.312226542</td>\n",
       "      <td>1.951992011</td>\n",
       "      <td>-1.609850732</td>\n",
       "      <td>3.997905588</td>\n",
       "      <td>-0.522187865</td>\n",
       "      <td>-1.426545319</td>\n",
       "      <td>-2.537387306</td>\n",
       "      <td>1.391657248</td>\n",
       "      <td>...</td>\n",
       "      <td>0.126910559</td>\n",
       "      <td>0.517232371</td>\n",
       "      <td>-0.035049369</td>\n",
       "      <td>-0.465211076</td>\n",
       "      <td>0.320198199</td>\n",
       "      <td>0.044519167</td>\n",
       "      <td>0.177839798</td>\n",
       "      <td>0.261145003</td>\n",
       "      <td>-0.143275875</td>\n",
       "      <td>0</td>\n",
       "    </tr>\n",
       "    <tr>\n",
       "      <th>1</th>\n",
       "      <td>1</td>\n",
       "      <td>472</td>\n",
       "      <td>-3.043540624</td>\n",
       "      <td>-3.157307121</td>\n",
       "      <td>1.08846278</td>\n",
       "      <td>2.288643618</td>\n",
       "      <td>1.35980513</td>\n",
       "      <td>-1.064822523</td>\n",
       "      <td>0.325574266</td>\n",
       "      <td>-0.067793653</td>\n",
       "      <td>...</td>\n",
       "      <td>2.102338793</td>\n",
       "      <td>0.661695925</td>\n",
       "      <td>0.435477209</td>\n",
       "      <td>1.375965743</td>\n",
       "      <td>-0.293803153</td>\n",
       "      <td>0.279798032</td>\n",
       "      <td>-0.145361715</td>\n",
       "      <td>-0.252773123</td>\n",
       "      <td>0.035764225</td>\n",
       "      <td>529</td>\n",
       "    </tr>\n",
       "    <tr>\n",
       "      <th>2</th>\n",
       "      <td>1</td>\n",
       "      <td>4462</td>\n",
       "      <td>-2.303349568</td>\n",
       "      <td>1.75924746</td>\n",
       "      <td>-0.359744743</td>\n",
       "      <td>2.330243051</td>\n",
       "      <td>-0.821628328</td>\n",
       "      <td>-0.075787571</td>\n",
       "      <td>0.562319782</td>\n",
       "      <td>-0.399146578</td>\n",
       "      <td>...</td>\n",
       "      <td>-0.430021867</td>\n",
       "      <td>-0.294166318</td>\n",
       "      <td>-0.932391057</td>\n",
       "      <td>0.172726296</td>\n",
       "      <td>-0.087329538</td>\n",
       "      <td>-0.156114265</td>\n",
       "      <td>-0.542627889</td>\n",
       "      <td>0.039565989</td>\n",
       "      <td>-0.153028797</td>\n",
       "      <td>239.93</td>\n",
       "    </tr>\n",
       "    <tr>\n",
       "      <th>3</th>\n",
       "      <td>1</td>\n",
       "      <td>6986</td>\n",
       "      <td>-4.397974442</td>\n",
       "      <td>1.358367028</td>\n",
       "      <td>-2.592844218</td>\n",
       "      <td>2.679786967</td>\n",
       "      <td>-1.128130942</td>\n",
       "      <td>-1.706536388</td>\n",
       "      <td>-3.496197293</td>\n",
       "      <td>-0.248777743</td>\n",
       "      <td>...</td>\n",
       "      <td>-0.171607879</td>\n",
       "      <td>0.573574068</td>\n",
       "      <td>0.176967718</td>\n",
       "      <td>-0.436206884</td>\n",
       "      <td>-0.053501865</td>\n",
       "      <td>0.252405262</td>\n",
       "      <td>-0.657487755</td>\n",
       "      <td>-0.827135715</td>\n",
       "      <td>0.84957338</td>\n",
       "      <td>59</td>\n",
       "    </tr>\n",
       "    <tr>\n",
       "      <th>4</th>\n",
       "      <td>1</td>\n",
       "      <td>7519</td>\n",
       "      <td>1.234235046</td>\n",
       "      <td>3.019740421</td>\n",
       "      <td>-4.304596885</td>\n",
       "      <td>4.73279513</td>\n",
       "      <td>3.624200831</td>\n",
       "      <td>-1.357745663</td>\n",
       "      <td>1.713444988</td>\n",
       "      <td>-0.496358487</td>\n",
       "      <td>...</td>\n",
       "      <td>0.009060836</td>\n",
       "      <td>-0.379068307</td>\n",
       "      <td>-0.704181032</td>\n",
       "      <td>-0.656804756</td>\n",
       "      <td>-1.632652957</td>\n",
       "      <td>1.488901448</td>\n",
       "      <td>0.566797273</td>\n",
       "      <td>-0.010016223</td>\n",
       "      <td>0.146792735</td>\n",
       "      <td>1</td>\n",
       "    </tr>\n",
       "    <tr>\n",
       "      <th>...</th>\n",
       "      <td>...</td>\n",
       "      <td>...</td>\n",
       "      <td>...</td>\n",
       "      <td>...</td>\n",
       "      <td>...</td>\n",
       "      <td>...</td>\n",
       "      <td>...</td>\n",
       "      <td>...</td>\n",
       "      <td>...</td>\n",
       "      <td>...</td>\n",
       "      <td>...</td>\n",
       "      <td>...</td>\n",
       "      <td>...</td>\n",
       "      <td>...</td>\n",
       "      <td>...</td>\n",
       "      <td>...</td>\n",
       "      <td>...</td>\n",
       "      <td>...</td>\n",
       "      <td>...</td>\n",
       "      <td>...</td>\n",
       "      <td>...</td>\n",
       "    </tr>\n",
       "    <tr>\n",
       "      <th>155</th>\n",
       "      <td>0</td>\n",
       "      <td>1</td>\n",
       "      <td>-1.358354062</td>\n",
       "      <td>-1.340163075</td>\n",
       "      <td>1.773209343</td>\n",
       "      <td>0.379779593</td>\n",
       "      <td>-0.503198133</td>\n",
       "      <td>1.800499381</td>\n",
       "      <td>0.791460956</td>\n",
       "      <td>0.247675787</td>\n",
       "      <td>...</td>\n",
       "      <td>0.524979725</td>\n",
       "      <td>0.247998153</td>\n",
       "      <td>0.771679402</td>\n",
       "      <td>0.909412262</td>\n",
       "      <td>-0.689280956</td>\n",
       "      <td>-0.327641834</td>\n",
       "      <td>-0.139096572</td>\n",
       "      <td>-0.055352794</td>\n",
       "      <td>-0.059751841</td>\n",
       "      <td>378.66</td>\n",
       "    </tr>\n",
       "    <tr>\n",
       "      <th>156</th>\n",
       "      <td>0</td>\n",
       "      <td>1</td>\n",
       "      <td>-0.966271712</td>\n",
       "      <td>-0.185226008</td>\n",
       "      <td>1.79299334</td>\n",
       "      <td>-0.863291275</td>\n",
       "      <td>-0.01030888</td>\n",
       "      <td>1.247203168</td>\n",
       "      <td>0.23760894</td>\n",
       "      <td>0.377435875</td>\n",
       "      <td>...</td>\n",
       "      <td>-0.208037781</td>\n",
       "      <td>-0.108300452</td>\n",
       "      <td>0.005273597</td>\n",
       "      <td>-0.190320519</td>\n",
       "      <td>-1.175575332</td>\n",
       "      <td>0.647376035</td>\n",
       "      <td>-0.221928844</td>\n",
       "      <td>0.062722849</td>\n",
       "      <td>0.061457629</td>\n",
       "      <td>123.5</td>\n",
       "    </tr>\n",
       "    <tr>\n",
       "      <th>157</th>\n",
       "      <td>0</td>\n",
       "      <td>2</td>\n",
       "      <td>-1.158233093</td>\n",
       "      <td>0.877736755</td>\n",
       "      <td>1.548717847</td>\n",
       "      <td>0.403033934</td>\n",
       "      <td>-0.407193377</td>\n",
       "      <td>0.095921462</td>\n",
       "      <td>0.592940745</td>\n",
       "      <td>-0.270532677</td>\n",
       "      <td>...</td>\n",
       "      <td>0.40854236</td>\n",
       "      <td>-0.009430697</td>\n",
       "      <td>0.798278495</td>\n",
       "      <td>-0.13745808</td>\n",
       "      <td>0.141266984</td>\n",
       "      <td>-0.206009588</td>\n",
       "      <td>0.502292224</td>\n",
       "      <td>0.21942223</td>\n",
       "      <td>0.215153147</td>\n",
       "      <td>69.99</td>\n",
       "    </tr>\n",
       "    <tr>\n",
       "      <th>158</th>\n",
       "      <td>0</td>\n",
       "      <td>2</td>\n",
       "      <td>-0.425965884</td>\n",
       "      <td>0.960523045</td>\n",
       "      <td>1.141109342</td>\n",
       "      <td>-0.16825208</td>\n",
       "      <td>0.420986881</td>\n",
       "      <td>-0.029727552</td>\n",
       "      <td>0.476200949</td>\n",
       "      <td>0.260314333</td>\n",
       "      <td>...</td>\n",
       "      <td>0.084967672</td>\n",
       "      <td>-0.208253515</td>\n",
       "      <td>-0.559824796</td>\n",
       "      <td>-0.026397668</td>\n",
       "      <td>-0.371426583</td>\n",
       "      <td>-0.232793817</td>\n",
       "      <td>0.105914779</td>\n",
       "      <td>0.253844225</td>\n",
       "      <td>0.081080257</td>\n",
       "      <td>3.67</td>\n",
       "    </tr>\n",
       "    <tr>\n",
       "      <th>159</th>\n",
       "      <td>0</td>\n",
       "      <td>4</td>\n",
       "      <td>1.229657635</td>\n",
       "      <td>0.141003507</td>\n",
       "      <td>0.045370774</td>\n",
       "      <td>1.202612737</td>\n",
       "      <td>0.191880989</td>\n",
       "      <td>0.272708123</td>\n",
       "      <td>-0.005159003</td>\n",
       "      <td>0.08121294</td>\n",
       "      <td>...</td>\n",
       "      <td>-0.219632553</td>\n",
       "      <td>-0.167716266</td>\n",
       "      <td>-0.270709726</td>\n",
       "      <td>-0.154103787</td>\n",
       "      <td>-0.780055415</td>\n",
       "      <td>0.750136936</td>\n",
       "      <td>-0.257236846</td>\n",
       "      <td>0.03450743</td>\n",
       "      <td>0.005167769</td>\n",
       "      <td>4.99</td>\n",
       "    </tr>\n",
       "  </tbody>\n",
       "</table>\n",
       "<p>160 rows × 31 columns</p>\n",
       "</div>"
      ],
      "text/plain": [
       "     Class  Time            V1            V2            V3            V4  \\\n",
       "0        1   406  -2.312226542   1.951992011  -1.609850732   3.997905588   \n",
       "1        1   472  -3.043540624  -3.157307121    1.08846278   2.288643618   \n",
       "2        1  4462  -2.303349568    1.75924746  -0.359744743   2.330243051   \n",
       "3        1  6986  -4.397974442   1.358367028  -2.592844218   2.679786967   \n",
       "4        1  7519   1.234235046   3.019740421  -4.304596885    4.73279513   \n",
       "..     ...   ...           ...           ...           ...           ...   \n",
       "155      0     1  -1.358354062  -1.340163075   1.773209343   0.379779593   \n",
       "156      0     1  -0.966271712  -0.185226008    1.79299334  -0.863291275   \n",
       "157      0     2  -1.158233093   0.877736755   1.548717847   0.403033934   \n",
       "158      0     2  -0.425965884   0.960523045   1.141109342   -0.16825208   \n",
       "159      0     4   1.229657635   0.141003507   0.045370774   1.202612737   \n",
       "\n",
       "               V5            V6            V7            V8  ...  \\\n",
       "0    -0.522187865  -1.426545319  -2.537387306   1.391657248  ...   \n",
       "1      1.35980513  -1.064822523   0.325574266  -0.067793653  ...   \n",
       "2    -0.821628328  -0.075787571   0.562319782  -0.399146578  ...   \n",
       "3    -1.128130942  -1.706536388  -3.496197293  -0.248777743  ...   \n",
       "4     3.624200831  -1.357745663   1.713444988  -0.496358487  ...   \n",
       "..            ...           ...           ...           ...  ...   \n",
       "155  -0.503198133   1.800499381   0.791460956   0.247675787  ...   \n",
       "156   -0.01030888   1.247203168    0.23760894   0.377435875  ...   \n",
       "157  -0.407193377   0.095921462   0.592940745  -0.270532677  ...   \n",
       "158   0.420986881  -0.029727552   0.476200949   0.260314333  ...   \n",
       "159   0.191880989   0.272708123  -0.005159003    0.08121294  ...   \n",
       "\n",
       "              V20           V21           V22           V23           V24  \\\n",
       "0     0.126910559   0.517232371  -0.035049369  -0.465211076   0.320198199   \n",
       "1     2.102338793   0.661695925   0.435477209   1.375965743  -0.293803153   \n",
       "2    -0.430021867  -0.294166318  -0.932391057   0.172726296  -0.087329538   \n",
       "3    -0.171607879   0.573574068   0.176967718  -0.436206884  -0.053501865   \n",
       "4     0.009060836  -0.379068307  -0.704181032  -0.656804756  -1.632652957   \n",
       "..            ...           ...           ...           ...           ...   \n",
       "155   0.524979725   0.247998153   0.771679402   0.909412262  -0.689280956   \n",
       "156  -0.208037781  -0.108300452   0.005273597  -0.190320519  -1.175575332   \n",
       "157    0.40854236  -0.009430697   0.798278495   -0.13745808   0.141266984   \n",
       "158   0.084967672  -0.208253515  -0.559824796  -0.026397668  -0.371426583   \n",
       "159  -0.219632553  -0.167716266  -0.270709726  -0.154103787  -0.780055415   \n",
       "\n",
       "              V25           V26           V27           V28  Amount  \n",
       "0     0.044519167   0.177839798   0.261145003  -0.143275875       0  \n",
       "1     0.279798032  -0.145361715  -0.252773123   0.035764225     529  \n",
       "2    -0.156114265  -0.542627889   0.039565989  -0.153028797  239.93  \n",
       "3     0.252405262  -0.657487755  -0.827135715    0.84957338      59  \n",
       "4     1.488901448   0.566797273  -0.010016223   0.146792735       1  \n",
       "..            ...           ...           ...           ...     ...  \n",
       "155  -0.327641834  -0.139096572  -0.055352794  -0.059751841  378.66  \n",
       "156   0.647376035  -0.221928844   0.062722849   0.061457629   123.5  \n",
       "157  -0.206009588   0.502292224    0.21942223   0.215153147   69.99  \n",
       "158  -0.232793817   0.105914779   0.253844225   0.081080257    3.67  \n",
       "159   0.750136936  -0.257236846    0.03450743   0.005167769    4.99  \n",
       "\n",
       "[160 rows x 31 columns]"
      ]
     },
     "execution_count": 31,
     "metadata": {},
     "output_type": "execute_result"
    }
   ],
   "source": [
    "data.head(n=160)"
   ]
  },
  {
   "cell_type": "code",
   "execution_count": 32,
   "metadata": {},
   "outputs": [],
   "source": [
    "Frames=['Time', 'Amount']"
   ]
  },
  {
   "cell_type": "markdown",
   "metadata": {},
   "source": [
    "# Analysing Data"
   ]
  },
  {
   "cell_type": "code",
   "execution_count": 82,
   "metadata": {},
   "outputs": [],
   "source": [
    "# Dropping the Class column from the data\n",
    "X = data.drop('Class', axis = 1)\n",
    "Y=data[\"Class\"]"
   ]
  },
  {
   "cell_type": "code",
   "execution_count": 83,
   "metadata": {},
   "outputs": [
    {
     "data": {
      "text/html": [
       "<div>\n",
       "<style scoped>\n",
       "    .dataframe tbody tr th:only-of-type {\n",
       "        vertical-align: middle;\n",
       "    }\n",
       "\n",
       "    .dataframe tbody tr th {\n",
       "        vertical-align: top;\n",
       "    }\n",
       "\n",
       "    .dataframe thead th {\n",
       "        text-align: right;\n",
       "    }\n",
       "</style>\n",
       "<table border=\"1\" class=\"dataframe\">\n",
       "  <thead>\n",
       "    <tr style=\"text-align: right;\">\n",
       "      <th></th>\n",
       "      <th>Time</th>\n",
       "      <th>V1</th>\n",
       "      <th>V2</th>\n",
       "      <th>V3</th>\n",
       "      <th>V4</th>\n",
       "      <th>V5</th>\n",
       "      <th>V6</th>\n",
       "      <th>V7</th>\n",
       "      <th>V8</th>\n",
       "      <th>V9</th>\n",
       "      <th>...</th>\n",
       "      <th>V20</th>\n",
       "      <th>V21</th>\n",
       "      <th>V22</th>\n",
       "      <th>V23</th>\n",
       "      <th>V24</th>\n",
       "      <th>V25</th>\n",
       "      <th>V26</th>\n",
       "      <th>V27</th>\n",
       "      <th>V28</th>\n",
       "      <th>Amount</th>\n",
       "    </tr>\n",
       "  </thead>\n",
       "  <tbody>\n",
       "    <tr>\n",
       "      <th>0</th>\n",
       "      <td>406</td>\n",
       "      <td>-2.312226542</td>\n",
       "      <td>1.951992011</td>\n",
       "      <td>-1.609850732</td>\n",
       "      <td>3.997905588</td>\n",
       "      <td>-0.522187865</td>\n",
       "      <td>-1.426545319</td>\n",
       "      <td>-2.537387306</td>\n",
       "      <td>1.391657248</td>\n",
       "      <td>-2.770089277</td>\n",
       "      <td>...</td>\n",
       "      <td>0.126910559</td>\n",
       "      <td>0.517232371</td>\n",
       "      <td>-0.035049369</td>\n",
       "      <td>-0.465211076</td>\n",
       "      <td>0.320198199</td>\n",
       "      <td>0.044519167</td>\n",
       "      <td>0.177839798</td>\n",
       "      <td>0.261145003</td>\n",
       "      <td>-0.143275875</td>\n",
       "      <td>0</td>\n",
       "    </tr>\n",
       "    <tr>\n",
       "      <th>1</th>\n",
       "      <td>472</td>\n",
       "      <td>-3.043540624</td>\n",
       "      <td>-3.157307121</td>\n",
       "      <td>1.08846278</td>\n",
       "      <td>2.288643618</td>\n",
       "      <td>1.35980513</td>\n",
       "      <td>-1.064822523</td>\n",
       "      <td>0.325574266</td>\n",
       "      <td>-0.067793653</td>\n",
       "      <td>-0.270952836</td>\n",
       "      <td>...</td>\n",
       "      <td>2.102338793</td>\n",
       "      <td>0.661695925</td>\n",
       "      <td>0.435477209</td>\n",
       "      <td>1.375965743</td>\n",
       "      <td>-0.293803153</td>\n",
       "      <td>0.279798032</td>\n",
       "      <td>-0.145361715</td>\n",
       "      <td>-0.252773123</td>\n",
       "      <td>0.035764225</td>\n",
       "      <td>529</td>\n",
       "    </tr>\n",
       "    <tr>\n",
       "      <th>2</th>\n",
       "      <td>4462</td>\n",
       "      <td>-2.303349568</td>\n",
       "      <td>1.75924746</td>\n",
       "      <td>-0.359744743</td>\n",
       "      <td>2.330243051</td>\n",
       "      <td>-0.821628328</td>\n",
       "      <td>-0.075787571</td>\n",
       "      <td>0.562319782</td>\n",
       "      <td>-0.399146578</td>\n",
       "      <td>-0.238253368</td>\n",
       "      <td>...</td>\n",
       "      <td>-0.430021867</td>\n",
       "      <td>-0.294166318</td>\n",
       "      <td>-0.932391057</td>\n",
       "      <td>0.172726296</td>\n",
       "      <td>-0.087329538</td>\n",
       "      <td>-0.156114265</td>\n",
       "      <td>-0.542627889</td>\n",
       "      <td>0.039565989</td>\n",
       "      <td>-0.153028797</td>\n",
       "      <td>239.93</td>\n",
       "    </tr>\n",
       "    <tr>\n",
       "      <th>3</th>\n",
       "      <td>6986</td>\n",
       "      <td>-4.397974442</td>\n",
       "      <td>1.358367028</td>\n",
       "      <td>-2.592844218</td>\n",
       "      <td>2.679786967</td>\n",
       "      <td>-1.128130942</td>\n",
       "      <td>-1.706536388</td>\n",
       "      <td>-3.496197293</td>\n",
       "      <td>-0.248777743</td>\n",
       "      <td>-0.247767899</td>\n",
       "      <td>...</td>\n",
       "      <td>-0.171607879</td>\n",
       "      <td>0.573574068</td>\n",
       "      <td>0.176967718</td>\n",
       "      <td>-0.436206884</td>\n",
       "      <td>-0.053501865</td>\n",
       "      <td>0.252405262</td>\n",
       "      <td>-0.657487755</td>\n",
       "      <td>-0.827135715</td>\n",
       "      <td>0.84957338</td>\n",
       "      <td>59</td>\n",
       "    </tr>\n",
       "    <tr>\n",
       "      <th>4</th>\n",
       "      <td>7519</td>\n",
       "      <td>1.234235046</td>\n",
       "      <td>3.019740421</td>\n",
       "      <td>-4.304596885</td>\n",
       "      <td>4.73279513</td>\n",
       "      <td>3.624200831</td>\n",
       "      <td>-1.357745663</td>\n",
       "      <td>1.713444988</td>\n",
       "      <td>-0.496358487</td>\n",
       "      <td>-1.28285782</td>\n",
       "      <td>...</td>\n",
       "      <td>0.009060836</td>\n",
       "      <td>-0.379068307</td>\n",
       "      <td>-0.704181032</td>\n",
       "      <td>-0.656804756</td>\n",
       "      <td>-1.632652957</td>\n",
       "      <td>1.488901448</td>\n",
       "      <td>0.566797273</td>\n",
       "      <td>-0.010016223</td>\n",
       "      <td>0.146792735</td>\n",
       "      <td>1</td>\n",
       "    </tr>\n",
       "    <tr>\n",
       "      <th>...</th>\n",
       "      <td>...</td>\n",
       "      <td>...</td>\n",
       "      <td>...</td>\n",
       "      <td>...</td>\n",
       "      <td>...</td>\n",
       "      <td>...</td>\n",
       "      <td>...</td>\n",
       "      <td>...</td>\n",
       "      <td>...</td>\n",
       "      <td>...</td>\n",
       "      <td>...</td>\n",
       "      <td>...</td>\n",
       "      <td>...</td>\n",
       "      <td>...</td>\n",
       "      <td>...</td>\n",
       "      <td>...</td>\n",
       "      <td>...</td>\n",
       "      <td>...</td>\n",
       "      <td>...</td>\n",
       "      <td>...</td>\n",
       "      <td>...</td>\n",
       "    </tr>\n",
       "    <tr>\n",
       "      <th>52368</th>\n",
       "      <td>45549</td>\n",
       "      <td>1.035919196</td>\n",
       "      <td>-0.004393342</td>\n",
       "      <td>1.312297617</td>\n",
       "      <td>1.310594361</td>\n",
       "      <td>-0.874263824</td>\n",
       "      <td>-0.129115385</td>\n",
       "      <td>-0.490823823</td>\n",
       "      <td>0.102838286</td>\n",
       "      <td>0.343024388</td>\n",
       "      <td>...</td>\n",
       "      <td>-0.039746965</td>\n",
       "      <td>0.183476714</td>\n",
       "      <td>0.54467904</td>\n",
       "      <td>0.021824497</td>\n",
       "      <td>0.407450074</td>\n",
       "      <td>0.230445916</td>\n",
       "      <td>-0.357736211</td>\n",
       "      <td>0.076165563</td>\n",
       "      <td>0.048575593</td>\n",
       "      <td>45</td>\n",
       "    </tr>\n",
       "    <tr>\n",
       "      <th>52369</th>\n",
       "      <td>45551</td>\n",
       "      <td>-1.984123748</td>\n",
       "      <td>0.193889487</td>\n",
       "      <td>0.560990485</td>\n",
       "      <td>-0.56271154</td>\n",
       "      <td>0.421505708</td>\n",
       "      <td>-0.089439445</td>\n",
       "      <td>0.974425228</td>\n",
       "      <td>0.323494746</td>\n",
       "      <td>-1.057246761</td>\n",
       "      <td>...</td>\n",
       "      <td>-0.164882107</td>\n",
       "      <td>-0.440076226</td>\n",
       "      <td>-1.650721654</td>\n",
       "      <td>-0.35250294</td>\n",
       "      <td>-0.849575668</td>\n",
       "      <td>0.187195386</td>\n",
       "      <td>-0.166191886</td>\n",
       "      <td>-0.044172112</td>\n",
       "      <td>-0.32809006</td>\n",
       "      <td>189.95</td>\n",
       "    </tr>\n",
       "    <tr>\n",
       "      <th>52370</th>\n",
       "      <td>45551</td>\n",
       "      <td>1.112010105</td>\n",
       "      <td>-0.369666273</td>\n",
       "      <td>0.770240434</td>\n",
       "      <td>0.181258556</td>\n",
       "      <td>-1.073855755</td>\n",
       "      <td>-0.67908459</td>\n",
       "      <td>-0.456284711</td>\n",
       "      <td>0.117849059</td>\n",
       "      <td>0.708456153</td>\n",
       "      <td>...</td>\n",
       "      <td>-0.165359768</td>\n",
       "      <td>-0.146159449</td>\n",
       "      <td>-0.611861006</td>\n",
       "      <td>0.215867378</td>\n",
       "      <td>0.383098164</td>\n",
       "      <td>-0.201237669</td>\n",
       "      <td>0.80104724</td>\n",
       "      <td>-0.068827557</td>\n",
       "      <td>0.017192643</td>\n",
       "      <td>47.79</td>\n",
       "    </tr>\n",
       "    <tr>\n",
       "      <th>52371</th>\n",
       "      <td>45552</td>\n",
       "      <td>-0.810731885</td>\n",
       "      <td>0.405718467</td>\n",
       "      <td>1.166004412</td>\n",
       "      <td>0.174884784</td>\n",
       "      <td>0.719211603</td>\n",
       "      <td>0.129013301</td>\n",
       "      <td>0.563286914</td>\n",
       "      <td>0.251766252</td>\n",
       "      <td>-0.110465158</td>\n",
       "      <td>...</td>\n",
       "      <td>-0.386190122</td>\n",
       "      <td>-0.010338023</td>\n",
       "      <td>0.108283085</td>\n",
       "      <td>0.099050624</td>\n",
       "      <td>-0.341723315</td>\n",
       "      <td>0.193710021</td>\n",
       "      <td>-0.516672048</td>\n",
       "      <td>-0.031372691</td>\n",
       "      <td>-0.019112299</td>\n",
       "      <td>5.99</td>\n",
       "    </tr>\n",
       "    <tr>\n",
       "      <th>52372</th>\n",
       "      <td>45553</td>\n",
       "      <td>-1.449981174</td>\n",
       "      <td>0.971473103</td>\n",
       "      <td>0.725380787</td>\n",
       "      <td>0.608057747</td>\n",
       "      <td>0.564587257</td>\n",
       "      <td>-0.048967446</td>\n",
       "      <td>0.348578872</td>\n",
       "      <td>0.157750019</td>\n",
       "      <td>-0.033881599</td>\n",
       "      <td>...</td>\n",
       "      <td>0.085115909</td>\n",
       "      <td>0.055430691</td>\n",
       "      <td>0.506117598</td>\n",
       "      <td>-0.252332892</td>\n",
       "      <td>-0.31049398</td>\n",
       "      <td>-0.213305408</td>\n",
       "      <td>-0.291745145</td>\n",
       "      <td>0.399133748</td>\n",
       "      <td>0.452285057</td>\n",
       "      <td>30.8</td>\n",
       "    </tr>\n",
       "  </tbody>\n",
       "</table>\n",
       "<p>52373 rows × 30 columns</p>\n",
       "</div>"
      ],
      "text/plain": [
       "        Time            V1            V2            V3           V4  \\\n",
       "0        406  -2.312226542   1.951992011  -1.609850732  3.997905588   \n",
       "1        472  -3.043540624  -3.157307121    1.08846278  2.288643618   \n",
       "2       4462  -2.303349568    1.75924746  -0.359744743  2.330243051   \n",
       "3       6986  -4.397974442   1.358367028  -2.592844218  2.679786967   \n",
       "4       7519   1.234235046   3.019740421  -4.304596885   4.73279513   \n",
       "...      ...           ...           ...           ...          ...   \n",
       "52368  45549   1.035919196  -0.004393342   1.312297617  1.310594361   \n",
       "52369  45551  -1.984123748   0.193889487   0.560990485  -0.56271154   \n",
       "52370  45551   1.112010105  -0.369666273   0.770240434  0.181258556   \n",
       "52371  45552  -0.810731885   0.405718467   1.166004412  0.174884784   \n",
       "52372  45553  -1.449981174   0.971473103   0.725380787  0.608057747   \n",
       "\n",
       "                 V5            V6            V7            V8            V9  \\\n",
       "0      -0.522187865  -1.426545319  -2.537387306   1.391657248  -2.770089277   \n",
       "1        1.35980513  -1.064822523   0.325574266  -0.067793653  -0.270952836   \n",
       "2      -0.821628328  -0.075787571   0.562319782  -0.399146578  -0.238253368   \n",
       "3      -1.128130942  -1.706536388  -3.496197293  -0.248777743  -0.247767899   \n",
       "4       3.624200831  -1.357745663   1.713444988  -0.496358487   -1.28285782   \n",
       "...             ...           ...           ...           ...           ...   \n",
       "52368  -0.874263824  -0.129115385  -0.490823823   0.102838286   0.343024388   \n",
       "52369   0.421505708  -0.089439445   0.974425228   0.323494746  -1.057246761   \n",
       "52370  -1.073855755   -0.67908459  -0.456284711   0.117849059   0.708456153   \n",
       "52371   0.719211603   0.129013301   0.563286914   0.251766252  -0.110465158   \n",
       "52372   0.564587257  -0.048967446   0.348578872   0.157750019  -0.033881599   \n",
       "\n",
       "       ...           V20           V21           V22           V23  \\\n",
       "0      ...   0.126910559   0.517232371  -0.035049369  -0.465211076   \n",
       "1      ...   2.102338793   0.661695925   0.435477209   1.375965743   \n",
       "2      ...  -0.430021867  -0.294166318  -0.932391057   0.172726296   \n",
       "3      ...  -0.171607879   0.573574068   0.176967718  -0.436206884   \n",
       "4      ...   0.009060836  -0.379068307  -0.704181032  -0.656804756   \n",
       "...    ...           ...           ...           ...           ...   \n",
       "52368  ...  -0.039746965   0.183476714    0.54467904   0.021824497   \n",
       "52369  ...  -0.164882107  -0.440076226  -1.650721654   -0.35250294   \n",
       "52370  ...  -0.165359768  -0.146159449  -0.611861006   0.215867378   \n",
       "52371  ...  -0.386190122  -0.010338023   0.108283085   0.099050624   \n",
       "52372  ...   0.085115909   0.055430691   0.506117598  -0.252332892   \n",
       "\n",
       "                V24           V25           V26           V27           V28  \\\n",
       "0       0.320198199   0.044519167   0.177839798   0.261145003  -0.143275875   \n",
       "1      -0.293803153   0.279798032  -0.145361715  -0.252773123   0.035764225   \n",
       "2      -0.087329538  -0.156114265  -0.542627889   0.039565989  -0.153028797   \n",
       "3      -0.053501865   0.252405262  -0.657487755  -0.827135715    0.84957338   \n",
       "4      -1.632652957   1.488901448   0.566797273  -0.010016223   0.146792735   \n",
       "...             ...           ...           ...           ...           ...   \n",
       "52368   0.407450074   0.230445916  -0.357736211   0.076165563   0.048575593   \n",
       "52369  -0.849575668   0.187195386  -0.166191886  -0.044172112   -0.32809006   \n",
       "52370   0.383098164  -0.201237669    0.80104724  -0.068827557   0.017192643   \n",
       "52371  -0.341723315   0.193710021  -0.516672048  -0.031372691  -0.019112299   \n",
       "52372   -0.31049398  -0.213305408  -0.291745145   0.399133748   0.452285057   \n",
       "\n",
       "       Amount  \n",
       "0           0  \n",
       "1         529  \n",
       "2      239.93  \n",
       "3          59  \n",
       "4           1  \n",
       "...       ...  \n",
       "52368      45  \n",
       "52369  189.95  \n",
       "52370   47.79  \n",
       "52371    5.99  \n",
       "52372    30.8  \n",
       "\n",
       "[52373 rows x 30 columns]"
      ]
     },
     "execution_count": 83,
     "metadata": {},
     "output_type": "execute_result"
    }
   ],
   "source": [
    "X"
   ]
  },
  {
   "cell_type": "code",
   "execution_count": 84,
   "metadata": {},
   "outputs": [],
   "source": [
    "#data.columns"
   ]
  },
  {
   "cell_type": "code",
   "execution_count": null,
   "metadata": {},
   "outputs": [],
   "source": []
  },
  {
   "cell_type": "raw",
   "metadata": {},
   "source": [
    "# Scaling the data to bring all the attributes to a comparable level\n",
    "scaler = StandardScaler()\n",
    "X_scaled = scaler.fit_transform(data)\n",
    "  \n",
    "# Normalizing the data so that \n",
    "# the data approximately follows a Gaussian distribution\n",
    "X_normalized = normalize(X_scaled)\n",
    "  \n",
    "# Converting the numpy array into a pandas DataFrame\n",
    "X_final = pd.DataFrame(X_normalized)"
   ]
  },
  {
   "cell_type": "code",
   "execution_count": null,
   "metadata": {},
   "outputs": [],
   "source": [
    "#X_scaled"
   ]
  },
  {
   "cell_type": "code",
   "execution_count": null,
   "metadata": {},
   "outputs": [],
   "source": [
    "#Y.head()"
   ]
  },
  {
   "cell_type": "code",
   "execution_count": 85,
   "metadata": {},
   "outputs": [],
   "source": [
    "#pd.DataFrame(X_scaled)"
   ]
  },
  {
   "cell_type": "code",
   "execution_count": 86,
   "metadata": {},
   "outputs": [],
   "source": [
    "#X_final.head()"
   ]
  },
  {
   "cell_type": "code",
   "execution_count": 87,
   "metadata": {},
   "outputs": [],
   "source": [
    "#X_final.columns=['Time', 'V1', 'V2', 'V3', 'V4', 'V5', 'V6', 'V7', 'V8', 'V9', 'V10', 'V11', 'V12', 'V13', 'V14', 'V15', 'V16','V17', 'V18', 'V19', 'V20', 'V21', 'V22', 'V23', 'V24', 'V25', 'V26', 'V27', 'V28', 'Amount']"
   ]
  },
  {
   "cell_type": "code",
   "execution_count": 88,
   "metadata": {},
   "outputs": [],
   "source": [
    "#apply RobustScaler to the Time and the Amount columns\n",
    "#data1 = scaler.fit_transform(data)\n",
    "\n",
    "#view the dataset to see the new look of the Time and Amount columns\n",
    "#new_data=pd.DataFrame(data1)\n",
    "#new_data"
   ]
  },
  {
   "cell_type": "raw",
   "metadata": {},
   "source": [
    "from sklearn.decomposition import PCA\n",
    "pca = PCA()\n",
    "principalComponents = pca.fit_transform(X_final)\n",
    "plt.figure()\n",
    "plt.plot(np.cumsum(pca.explained_variance_ratio_))\n",
    "plt.xlabel('Number of Components')\n",
    "plt.ylabel('Variance (%)') #for each component\n",
    "plt.title('Explained Variance')\n",
    "plt.show()"
   ]
  },
  {
   "cell_type": "raw",
   "metadata": {},
   "source": [
    "#py.offline.init_notebook_mode(connected=True)\n",
    "#cf.go_offline()"
   ]
  },
  {
   "cell_type": "code",
   "execution_count": 89,
   "metadata": {},
   "outputs": [],
   "source": [
    "#X_final.iplot(kind = 'box')"
   ]
  },
  {
   "cell_type": "code",
   "execution_count": 90,
   "metadata": {},
   "outputs": [],
   "source": [
    "#pd.plotting.scatter_matrix(data[['Time','V1','V2','V3','V4','V5','V6','V7','V8','V9','V10','V11','V12','V13','V14','V15','V16','V17','V18','V19','V20','V21','V22','V23','V24','V25','V26','V27','V28', 'Amount']] , figsize = (10,10),diagonal='kde')"
   ]
  },
  {
   "cell_type": "code",
   "execution_count": 91,
   "metadata": {},
   "outputs": [],
   "source": [
    "#cf.set_config_file(theme='white')\n",
    "#data.iplot(x = 'Amount' , y = 'Class',kind = 'scatter' ,mode = 'markers',xTitle= 'Amount' , yTitle = 'Class') "
   ]
  },
  {
   "cell_type": "code",
   "execution_count": 92,
   "metadata": {},
   "outputs": [],
   "source": [
    "#X_final.hist(figsize= (20,10) , color = 'r' , alpha  = .9)"
   ]
  },
  {
   "cell_type": "code",
   "execution_count": 93,
   "metadata": {},
   "outputs": [],
   "source": [
    "#data.iplot(kind = 'bar', x = 'Class', y = 'Amount', title = 'Fraud', xTitle='Class', yTitle='Amount')"
   ]
  },
  {
   "cell_type": "code",
   "execution_count": 94,
   "metadata": {},
   "outputs": [],
   "source": [
    "#cf.set_config_file(theme='white')\n",
    "#data.iplot(x = 'Time' , y = 'Class',kind = 'scatter' ,mode = 'markers',xTitle= 'Time' , yTitle = 'Class') "
   ]
  },
  {
   "cell_type": "code",
   "execution_count": 95,
   "metadata": {},
   "outputs": [],
   "source": [
    "#data.iplot(x = 'Amount' , y = 'Class' , kind = 'bar')"
   ]
  },
  {
   "cell_type": "code",
   "execution_count": 96,
   "metadata": {},
   "outputs": [],
   "source": [
    "#X_final.iplot(kind='hist', bins = 25, barmode = 'overlay', bargap=1.0)"
   ]
  },
  {
   "cell_type": "code",
   "execution_count": 97,
   "metadata": {},
   "outputs": [],
   "source": [
    "#cf.datagen.scatter3d(2, 150, mode = 'stocks').iplot(kind = 'scatter3d', x = 'Time', y= 'Amount', z = 'Class')\n",
    "#data.iplot( x = 'Time', y= 'Amount', z = 'Class' , kind = 'scatter3d')"
   ]
  },
  {
   "cell_type": "code",
   "execution_count": 98,
   "metadata": {},
   "outputs": [],
   "source": [
    "#data.iplot(kind = 'box')"
   ]
  },
  {
   "cell_type": "code",
   "execution_count": 99,
   "metadata": {},
   "outputs": [],
   "source": [
    "#X_final.boxplot(figsize=(20,10))"
   ]
  },
  {
   "cell_type": "code",
   "execution_count": 100,
   "metadata": {},
   "outputs": [],
   "source": [
    "#X_final.columns.values"
   ]
  },
  {
   "cell_type": "raw",
   "metadata": {},
   "source": [
    "cols = [ 0,  1,  2,  3,  4,  5,  6,  7,  8,  9, 10, 11, 12, 13, 14, 15, 16,\n",
    "       17, 18, 19, 20, 21, 22, 23, 24, 25, 26, 27, 28, 29] # one or more\n",
    "\n",
    "Q1 = X_final[cols].quantile(0.25)\n",
    "Q3 = X_final[cols].quantile(0.75)\n",
    "IQR = Q3 - Q1"
   ]
  },
  {
   "cell_type": "code",
   "execution_count": 101,
   "metadata": {},
   "outputs": [],
   "source": [
    "#Q1"
   ]
  },
  {
   "cell_type": "code",
   "execution_count": 102,
   "metadata": {},
   "outputs": [],
   "source": [
    "#Q3"
   ]
  },
  {
   "cell_type": "code",
   "execution_count": 103,
   "metadata": {},
   "outputs": [],
   "source": [
    "# IQR = Q3 - Q1\n",
    "#IQR"
   ]
  },
  {
   "cell_type": "code",
   "execution_count": 104,
   "metadata": {},
   "outputs": [],
   "source": [
    "#upper_limit = Q3 + 3 * IQR\n",
    "#lower_limit = Q1 - 3 * IQR"
   ]
  },
  {
   "cell_type": "code",
   "execution_count": 105,
   "metadata": {},
   "outputs": [],
   "source": [
    "#X_final[df[1] > upper_limit]"
   ]
  },
  {
   "cell_type": "code",
   "execution_count": 106,
   "metadata": {},
   "outputs": [],
   "source": [
    "#X_final[X_final[1] < lower_limit]"
   ]
  },
  {
   "cell_type": "code",
   "execution_count": 107,
   "metadata": {},
   "outputs": [],
   "source": [
    "#df1 = X_final[~((X_final[cols] < (Q1 - 3 * IQR)) |(X_final[cols] > (Q3 + 3 * IQR))).any(axis=1)]\n",
    "#df1"
   ]
  },
  {
   "cell_type": "code",
   "execution_count": 108,
   "metadata": {},
   "outputs": [],
   "source": [
    "#df1.iplot(kind = 'box')"
   ]
  },
  {
   "cell_type": "code",
   "execution_count": 109,
   "metadata": {},
   "outputs": [],
   "source": [
    "#df1.boxplot(figsize=(20,10))"
   ]
  },
  {
   "cell_type": "code",
   "execution_count": 110,
   "metadata": {},
   "outputs": [],
   "source": [
    "#df1.hist(figsize= (20,10) , color = 'r' , alpha  = .9)"
   ]
  },
  {
   "cell_type": "raw",
   "metadata": {},
   "source": [
    "plt.figure(figsize=(16,8))\n",
    "plt.subplot(3,2,1)\n",
    "sns.distplot(X_final[0])\n",
    "plt.subplot(3,2,2)\n",
    "sns.boxplot(X_final[0])\n",
    "plt.subplot(3,2,3)\n",
    "sns.distplot(df1[0])\n",
    "plt.subplot(3,2,4)\n",
    "sns.boxplot(df1[0])\n",
    "plt.subplot(3,2,5)\n",
    "sns.distplot(data[\"Time\"])\n",
    "plt.subplot(3,2,6)\n",
    "sns.boxplot(data[\"Time\"])\n",
    "plt.show()"
   ]
  },
  {
   "cell_type": "raw",
   "metadata": {},
   "source": [
    "plt.figure(figsize=(16,8))\n",
    "plt.subplot(3,2,1)\n",
    "sns.distplot(X_final[1])\n",
    "plt.subplot(3,2,2)\n",
    "sns.boxplot(X_final[1])\n",
    "plt.subplot(3,2,3)\n",
    "sns.distplot(df1[1])\n",
    "plt.subplot(3,2,4)\n",
    "sns.boxplot(df1[1])"
   ]
  },
  {
   "cell_type": "raw",
   "metadata": {},
   "source": [
    "plt.figure(figsize=(16,8))\n",
    "plt.subplot(3,2,1)\n",
    "sns.distplot(X_final[2])\n",
    "plt.subplot(3,2,2)\n",
    "sns.boxplot(X_final[2])\n",
    "plt.subplot(3,2,3)\n",
    "sns.distplot(df1[2])\n",
    "plt.subplot(3,2,4)\n",
    "sns.boxplot(df1[2])"
   ]
  },
  {
   "cell_type": "raw",
   "metadata": {},
   "source": [
    "plt.figure(figsize=(16,8))\n",
    "plt.subplot(3,2,1)\n",
    "sns.distplot(X_final[3])\n",
    "plt.subplot(3,2,2)\n",
    "sns.boxplot(X_final[3])\n",
    "plt.subplot(3,2,3)\n",
    "sns.distplot(df1[3])\n",
    "plt.subplot(3,2,4)\n",
    "sns.boxplot(df1[3])"
   ]
  },
  {
   "cell_type": "raw",
   "metadata": {},
   "source": [
    "plt.figure(figsize=(16,8))\n",
    "plt.subplot(3,2,1)\n",
    "sns.distplot(X_final[4])\n",
    "plt.subplot(3,2,2)\n",
    "sns.boxplot(X_final[4])\n",
    "plt.subplot(3,2,3)\n",
    "sns.distplot(df1[4])\n",
    "plt.subplot(3,2,4)\n",
    "sns.boxplot(df1[4])"
   ]
  },
  {
   "cell_type": "raw",
   "metadata": {},
   "source": [
    "plt.figure(figsize=(16,8))\n",
    "plt.subplot(3,2,1)\n",
    "sns.distplot(X_final[30])\n",
    "plt.subplot(3,2,2)\n",
    "sns.boxplot(X_final[30])\n",
    "plt.subplot(3,2,3)\n",
    "sns.distplot(df1[30])\n",
    "plt.subplot(3,2,4)\n",
    "sns.boxplot(df1[30])"
   ]
  },
  {
   "cell_type": "code",
   "execution_count": null,
   "metadata": {},
   "outputs": [],
   "source": [
    "from sklearn.model_selection import train_test_split\n",
    "x_train,x_test,y_train,y_test=train_test_split(X,Y,test_size=0.3,random_state=42)"
   ]
  },
  {
   "cell_type": "code",
   "execution_count": null,
   "metadata": {},
   "outputs": [],
   "source": [
    "x_train"
   ]
  },
  {
   "cell_type": "code",
   "execution_count": null,
   "metadata": {},
   "outputs": [],
   "source": [
    "scaler = StandardScaler()"
   ]
  },
  {
   "cell_type": "raw",
   "metadata": {},
   "source": [
    "# Scaling the data to bring all the attributes to a comparable level\n",
    "scaler = StandardScaler()\n",
    "X_scaled = scaler.fit_transform(data)\n",
    "  \n",
    "# Normalizing the data so that \n",
    "# the data approximately follows a Gaussian distribution\n",
    "X_normalized = normalize(X_scaled)\n",
    "  \n",
    "# Converting the numpy array into a pandas DataFrame\n",
    "X_final = pd.DataFrame(X_normalized)"
   ]
  },
  {
   "cell_type": "code",
   "execution_count": null,
   "metadata": {},
   "outputs": [],
   "source": [
    "from sklearn.preprocessing import StandardScaler\n",
    "X_train = scaler.fit_transform(x_train)\n",
    "X_test= scaler.transform(x_test)"
   ]
  },
  {
   "cell_type": "code",
   "execution_count": null,
   "metadata": {},
   "outputs": [],
   "source": [
    "(pd.DataFrame(X_train)).head()"
   ]
  },
  {
   "cell_type": "code",
   "execution_count": null,
   "metadata": {},
   "outputs": [],
   "source": [
    "print(X_train.shape)\n",
    "print(X_test.shape)"
   ]
  },
  {
   "cell_type": "code",
   "execution_count": null,
   "metadata": {},
   "outputs": [],
   "source": [
    "print(y_train.shape)\n",
    "print(y_test.shape)"
   ]
  },
  {
   "cell_type": "code",
   "execution_count": null,
   "metadata": {},
   "outputs": [],
   "source": [
    "!pip install --user imblearn"
   ]
  },
  {
   "cell_type": "code",
   "execution_count": null,
   "metadata": {},
   "outputs": [],
   "source": [
    "print(y_train.value_counts())\n",
    "print(y_test.value_counts())"
   ]
  },
  {
   "cell_type": "code",
   "execution_count": null,
   "metadata": {},
   "outputs": [],
   "source": [
    "from collections import Counter \n",
    "Counter(y_train)"
   ]
  },
  {
   "cell_type": "code",
   "execution_count": null,
   "metadata": {},
   "outputs": [],
   "source": [
    "from imblearn.under_sampling import NearMiss\n",
    "nm=NearMiss()\n",
    "nm"
   ]
  },
  {
   "cell_type": "markdown",
   "metadata": {},
   "source": [
    "### Under Sampling"
   ]
  },
  {
   "cell_type": "code",
   "execution_count": null,
   "metadata": {},
   "outputs": [],
   "source": [
    "from imblearn.under_sampling import NearMiss\n",
    "nm=NearMiss(0.7)\n",
    "nm"
   ]
  },
  {
   "cell_type": "code",
   "execution_count": null,
   "metadata": {},
   "outputs": [],
   "source": [
    "X_nm,Y_nm=nm.fit_resample(X_train,y_train)"
   ]
  },
  {
   "cell_type": "code",
   "execution_count": null,
   "metadata": {},
   "outputs": [],
   "source": [
    "print(\"The Number of classes Before the fit {}\".format(Counter(y_train)))\n",
    "print(\"The Number of classes After the fit {}\".format(Counter(Y_nm)))"
   ]
  },
  {
   "cell_type": "markdown",
   "metadata": {},
   "source": [
    "### Logistic Regression"
   ]
  },
  {
   "cell_type": "code",
   "execution_count": null,
   "metadata": {},
   "outputs": [],
   "source": [
    "# Preparing Classification Models\n",
    "from sklearn.linear_model import LogisticRegression"
   ]
  },
  {
   "cell_type": "code",
   "execution_count": null,
   "metadata": {},
   "outputs": [],
   "source": [
    "classifier_regressor = LogisticRegression(random_state = 42)\n"
   ]
  },
  {
   "cell_type": "code",
   "execution_count": null,
   "metadata": {},
   "outputs": [],
   "source": [
    "classifier_regressor.fit(X_nm,Y_nm)"
   ]
  },
  {
   "cell_type": "code",
   "execution_count": null,
   "metadata": {},
   "outputs": [],
   "source": [
    "y_pred_regressor_log = classifier_regressor.predict(X_test)\n",
    "y_pred_regressor_log"
   ]
  },
  {
   "cell_type": "code",
   "execution_count": null,
   "metadata": {},
   "outputs": [],
   "source": [
    "log_Accuracy = classifier_regressor.score(X_test,y_test)\n",
    "log_Accuracy"
   ]
  },
  {
   "cell_type": "code",
   "execution_count": null,
   "metadata": {},
   "outputs": [],
   "source": [
    "cm_regressor_Log = confusion_matrix(y_test, y_pred_regressor_log)\n",
    "print(cm_regressor_Log)\n",
    "print(\"Accuracy score of the model:\",accuracy_score(y_test, y_pred_regressor_log))\n",
    "print(classification_report(y_test, y_pred_regressor_log))"
   ]
  },
  {
   "cell_type": "markdown",
   "metadata": {},
   "source": [
    "### RANDOM FOREST"
   ]
  },
  {
   "cell_type": "code",
   "execution_count": null,
   "metadata": {},
   "outputs": [],
   "source": [
    "from sklearn.ensemble import RandomForestClassifier\n",
    "rf = RandomForestClassifier(bootstrap=True, ccp_alpha=0.15, class_weight=None,\n",
    "                       criterion='entropy', max_depth=None, max_features='auto',\n",
    "                       max_leaf_nodes=None, max_samples=None,\n",
    "                       min_impurity_decrease=0.0, min_impurity_split=None,\n",
    "                       min_samples_leaf=1, min_samples_split=2,\n",
    "                       min_weight_fraction_leaf=0.0, n_estimators=20,\n",
    "                       n_jobs=None, oob_score=False, random_state=42,\n",
    "                       verbose=0, warm_start=False)\n",
    "rf"
   ]
  },
  {
   "cell_type": "code",
   "execution_count": null,
   "metadata": {},
   "outputs": [],
   "source": [
    "rf.fit(X_nm,Y_nm)"
   ]
  },
  {
   "cell_type": "code",
   "execution_count": null,
   "metadata": {},
   "outputs": [],
   "source": [
    "y_pred_regressor_rf = rf.predict(X_test)\n",
    "y_pred_regressor_rf"
   ]
  },
  {
   "cell_type": "code",
   "execution_count": null,
   "metadata": {},
   "outputs": [],
   "source": [
    "RF_Accuracy = rf.score(X_test,y_test)\n",
    "RF_Accuracy"
   ]
  },
  {
   "cell_type": "code",
   "execution_count": null,
   "metadata": {},
   "outputs": [],
   "source": [
    "cm_regressor_rf = confusion_matrix(y_test, y_pred_regressor_rf)\n",
    "print(cm_regressor_rf)\n",
    "print(\"Accuracy score of the model:\",accuracy_score(y_test, y_pred_regressor_rf))\n",
    "print(classification_report(y_test, y_pred_regressor_rf))"
   ]
  },
  {
   "cell_type": "markdown",
   "metadata": {},
   "source": [
    "### SVM"
   ]
  },
  {
   "cell_type": "code",
   "execution_count": null,
   "metadata": {},
   "outputs": [],
   "source": [
    "from sklearn.svm import SVC"
   ]
  },
  {
   "cell_type": "code",
   "execution_count": null,
   "metadata": {},
   "outputs": [],
   "source": [
    "svm = SVC(kernel = 'linear', random_state=0,gamma=\"scale\")\n",
    "svm.fit(X_nm,Y_nm)"
   ]
  },
  {
   "cell_type": "code",
   "execution_count": null,
   "metadata": {},
   "outputs": [],
   "source": [
    "y_pred_regressor_svm = rf.predict(X_test)\n",
    "y_pred_regressor_svm"
   ]
  },
  {
   "cell_type": "code",
   "execution_count": null,
   "metadata": {},
   "outputs": [],
   "source": [
    "SVM_Accuracy = svm.score(X_test,y_test)\n",
    "SVM_Accuracy"
   ]
  },
  {
   "cell_type": "code",
   "execution_count": null,
   "metadata": {},
   "outputs": [],
   "source": [
    "cm_regressor_svm = confusion_matrix(y_test, y_pred_regressor_svm)\n",
    "print(cm_regressor_svm)\n",
    "print(\"Accuracy score of the model:\",accuracy_score(y_test, y_pred_regressor_svm))\n",
    "print(classification_report(y_test, y_pred_regressor_svm))"
   ]
  },
  {
   "cell_type": "markdown",
   "metadata": {},
   "source": [
    "### Decision Tree"
   ]
  },
  {
   "cell_type": "code",
   "execution_count": null,
   "metadata": {},
   "outputs": [],
   "source": [
    "from sklearn.tree import DecisionTreeClassifier"
   ]
  },
  {
   "cell_type": "code",
   "execution_count": null,
   "metadata": {},
   "outputs": [],
   "source": [
    "from sklearn.model_selection import StratifiedKFold\n",
    "skfold=StratifiedKFold(n_splits=10)"
   ]
  },
  {
   "cell_type": "code",
   "execution_count": null,
   "metadata": {},
   "outputs": [],
   "source": [
    "dt = DecisionTreeClassifier(criterion = 'entropy', random_state = 21,ccp_alpha=0.15)\n",
    "dt.fit(X_nm,Y_nm)"
   ]
  },
  {
   "cell_type": "code",
   "execution_count": null,
   "metadata": {},
   "outputs": [],
   "source": [
    "y_pred_regressor_dt = dt.predict(X_test)\n",
    "y_pred_regressor_dt"
   ]
  },
  {
   "cell_type": "code",
   "execution_count": null,
   "metadata": {},
   "outputs": [],
   "source": [
    "#scores=cross_val_score(dt,X_test,y_test,cv=10,scoring = 'accuracy')\n",
    "#print(np.mean(scores))"
   ]
  },
  {
   "cell_type": "code",
   "execution_count": null,
   "metadata": {},
   "outputs": [],
   "source": [
    "#scores"
   ]
  },
  {
   "cell_type": "code",
   "execution_count": null,
   "metadata": {},
   "outputs": [],
   "source": [
    "DTree_Accuracy = dt.score(X_test,y_test)\n",
    "DTree_Accuracy"
   ]
  },
  {
   "cell_type": "code",
   "execution_count": null,
   "metadata": {},
   "outputs": [],
   "source": [
    "cm_regressor_dt = confusion_matrix(y_test, y_pred_regressor_dt)\n",
    "print(cm_regressor_dt)\n",
    "print(\"Accuracy score of the model:\",accuracy_score(y_test, y_pred_regressor_dt))\n",
    "print(classification_report(y_test, y_pred_regressor_dt))"
   ]
  },
  {
   "cell_type": "raw",
   "metadata": {},
   "source": [
    "from sklearn import tree\n",
    "plt.figure(figsize=(15,10))\n",
    "tree.plot_tree(dt,filled=True)"
   ]
  },
  {
   "cell_type": "markdown",
   "metadata": {},
   "source": [
    "### KNN"
   ]
  },
  {
   "cell_type": "code",
   "execution_count": null,
   "metadata": {},
   "outputs": [],
   "source": [
    "from sklearn.neighbors import KNeighborsClassifier"
   ]
  },
  {
   "cell_type": "raw",
   "metadata": {},
   "source": [
    "accuracy_rate = []\n",
    "\n",
    "# Will take some time\n",
    "for i in range(1,40):\n",
    "    \n",
    "    knn = KNeighborsClassifier(n_neighbors=i)\n",
    "    score=cross_val_score(knn,X,Y,cv=10)\n",
    "    accuracy_rate.append(score.mean())"
   ]
  },
  {
   "cell_type": "raw",
   "metadata": {},
   "source": [
    "plt.figure(figsize=(10,6))\n",
    "#plt.plot(range(1,40),error_rate,color='blue', linestyle='dashed', marker='o',\n",
    "  #       markerfacecolor='red', markersize=10)\n",
    "plt.plot(range(1,100),accuracy_rate,color='red', linestyle='dashed', marker='*',\n",
    "         markerfacecolor='yellow', markersize=10)\n",
    "plt.title('Accuracy Rate vs. K Value')\n",
    "plt.xlabel('K')\n",
    "plt.ylabel('Accuracy Rate')"
   ]
  },
  {
   "cell_type": "code",
   "execution_count": null,
   "metadata": {},
   "outputs": [],
   "source": [
    "knn = KNeighborsClassifier(n_neighbors = 10, metric='minkowski', p=2)\n",
    "knn.fit(X_nm,Y_nm)"
   ]
  },
  {
   "cell_type": "code",
   "execution_count": null,
   "metadata": {},
   "outputs": [],
   "source": [
    "y_pred_regressor_knn = knn.predict(X_test)\n",
    "y_pred_regressor_knn"
   ]
  },
  {
   "cell_type": "code",
   "execution_count": null,
   "metadata": {},
   "outputs": [],
   "source": [
    "Knn_Accuracy = knn.score(X_test,y_test)\n",
    "Knn_Accuracy"
   ]
  },
  {
   "cell_type": "code",
   "execution_count": null,
   "metadata": {},
   "outputs": [],
   "source": [
    "cm_regressor_knn = confusion_matrix(y_test, y_pred_regressor_knn)\n",
    "print(cm_regressor_knn)\n",
    "print(\"Accuracy score of the model:\",accuracy_score(y_test, y_pred_regressor_knn))\n",
    "print(classification_report(y_test, y_pred_regressor_knn))"
   ]
  },
  {
   "cell_type": "markdown",
   "metadata": {},
   "source": [
    "### XGboost"
   ]
  },
  {
   "cell_type": "code",
   "execution_count": null,
   "metadata": {},
   "outputs": [],
   "source": [
    "! pip install xgboost"
   ]
  },
  {
   "cell_type": "code",
   "execution_count": null,
   "metadata": {},
   "outputs": [],
   "source": [
    "import xgboost as xgb\n",
    "from sklearn.model_selection import cross_val_score"
   ]
  },
  {
   "cell_type": "code",
   "execution_count": null,
   "metadata": {},
   "outputs": [],
   "source": [
    "xgb=xgb.XGBClassifier(base_score=0.5, booster='gbtree',gamma=0.0,\n",
    "              learning_rate=0.05, max_delta_step=0, max_depth=4,\n",
    "              n_estimators=100, n_jobs=4, num_parallel_tree=1, random_state=0,validate_parameters=1, verbosity=None)"
   ]
  },
  {
   "cell_type": "code",
   "execution_count": null,
   "metadata": {},
   "outputs": [],
   "source": [
    "xgb.fit(X_nm,Y_nm)"
   ]
  },
  {
   "cell_type": "code",
   "execution_count": null,
   "metadata": {},
   "outputs": [],
   "source": [
    "y_pred_regressor_xgb = xgb.predict(X_test)\n",
    "y_pred_regressor_xgb"
   ]
  },
  {
   "cell_type": "code",
   "execution_count": null,
   "metadata": {},
   "outputs": [],
   "source": [
    "xgb_Accuracy = xgb.score(X_test,y_test)\n",
    "xgb_Accuracy"
   ]
  },
  {
   "cell_type": "code",
   "execution_count": null,
   "metadata": {},
   "outputs": [],
   "source": [
    "cm_regressor_xgb = confusion_matrix(y_test, y_pred_regressor_xgb)\n",
    "print(cm_regressor_xgb)\n",
    "print(\"Accuracy score of the model:\",accuracy_score(y_test, y_pred_regressor_xgb))\n",
    "print(classification_report(y_test, y_pred_regressor_xgb))"
   ]
  },
  {
   "cell_type": "markdown",
   "metadata": {},
   "source": [
    "### Naive bayes"
   ]
  },
  {
   "cell_type": "code",
   "execution_count": null,
   "metadata": {},
   "outputs": [],
   "source": [
    "from sklearn.naive_bayes import GaussianNB"
   ]
  },
  {
   "cell_type": "code",
   "execution_count": null,
   "metadata": {},
   "outputs": [],
   "source": [
    "nb = GaussianNB()\n",
    "nb.fit(X_nm,Y_nm)"
   ]
  },
  {
   "cell_type": "code",
   "execution_count": null,
   "metadata": {},
   "outputs": [],
   "source": [
    "y_pred_nb = nb.predict(X_test)\n",
    "y_pred_nb"
   ]
  },
  {
   "cell_type": "code",
   "execution_count": null,
   "metadata": {},
   "outputs": [],
   "source": [
    "NB_Accuracy = nb.score(X_test,y_test)\n",
    "NB_Accuracy"
   ]
  },
  {
   "cell_type": "code",
   "execution_count": null,
   "metadata": {},
   "outputs": [],
   "source": [
    "cm_regressor_nb = confusion_matrix(y_test, y_pred_nb)\n",
    "print(cm_regressor_nb)\n",
    "print(\"Accuracy score of the model:\",accuracy_score(y_test, y_pred_nb))\n",
    "print(classification_report(y_test, y_pred_nb))"
   ]
  },
  {
   "cell_type": "code",
   "execution_count": null,
   "metadata": {},
   "outputs": [],
   "source": []
  },
  {
   "cell_type": "markdown",
   "metadata": {},
   "source": [
    "### SMOTE (Synthetic Minority Oversampling Technique) – Oversampling"
   ]
  },
  {
   "cell_type": "code",
   "execution_count": null,
   "metadata": {},
   "outputs": [],
   "source": [
    "from imblearn.over_sampling import SMOTE\n",
    "sm = SMOTE(0.7,random_state = 42)\n",
    "X_train_Smote, Y_train_Smote = sm.fit_resample(X_train, y_train)"
   ]
  },
  {
   "cell_type": "code",
   "execution_count": null,
   "metadata": {},
   "outputs": [],
   "source": [
    "print(\"The Number of classes Before the fit {}\".format(Counter(y_train)))\n",
    "print(\"The Number of classes After the fit {}\".format(Counter(Y_train_Smote)))"
   ]
  },
  {
   "cell_type": "markdown",
   "metadata": {},
   "source": [
    "#### Logistic Regression\n"
   ]
  },
  {
   "cell_type": "code",
   "execution_count": null,
   "metadata": {},
   "outputs": [],
   "source": [
    "classifier_regressor_Smote = LogisticRegression(random_state = 42)\n",
    "classifier_regressor_Smote.fit(X_train_Smote, Y_train_Smote)"
   ]
  },
  {
   "cell_type": "code",
   "execution_count": null,
   "metadata": {},
   "outputs": [],
   "source": [
    "y_pred_regressor_log_SMOTE = classifier_regressor_Smote.predict(X_test)\n",
    "y_pred_regressor_log_SMOTE"
   ]
  },
  {
   "cell_type": "code",
   "execution_count": null,
   "metadata": {},
   "outputs": [],
   "source": [
    "log_Accuracy_SMOTE = classifier_regressor_Smote.score(X_test,y_test)\n",
    "log_Accuracy_SMOTE"
   ]
  },
  {
   "cell_type": "code",
   "execution_count": null,
   "metadata": {},
   "outputs": [],
   "source": [
    "cm_regressor_Log_SMOTE = confusion_matrix(y_test, y_pred_regressor_log_SMOTE)\n",
    "print(cm_regressor_Log_SMOTE)\n",
    "print(\"Accuracy score of the model:\",accuracy_score(y_test, y_pred_regressor_log_SMOTE))\n",
    "print(classification_report(y_test, y_pred_regressor_log_SMOTE))"
   ]
  },
  {
   "cell_type": "markdown",
   "metadata": {},
   "source": [
    "### RANDOM FOREST"
   ]
  },
  {
   "cell_type": "code",
   "execution_count": null,
   "metadata": {},
   "outputs": [],
   "source": [
    "from sklearn.ensemble import RandomForestClassifier\n",
    "rf_SMOTE = RandomForestClassifier(bootstrap=True, ccp_alpha=0.15, class_weight=None,\n",
    "                       criterion='entropy', max_depth=None, max_features='auto',\n",
    "                       max_leaf_nodes=None, max_samples=None,\n",
    "                       min_impurity_decrease=0.0, min_impurity_split=None,\n",
    "                       min_samples_leaf=1, min_samples_split=2,\n",
    "                       min_weight_fraction_leaf=0.0, n_estimators=20,\n",
    "                       n_jobs=None, oob_score=False, random_state=42,\n",
    "                       verbose=0, warm_start=False)\n",
    "rf_SMOTE"
   ]
  },
  {
   "cell_type": "code",
   "execution_count": null,
   "metadata": {},
   "outputs": [],
   "source": [
    "rf_SMOTE.fit(X_train_Smote, Y_train_Smote)"
   ]
  },
  {
   "cell_type": "code",
   "execution_count": null,
   "metadata": {},
   "outputs": [],
   "source": [
    "y_pred_regressor_rf1 = rf_SMOTE.predict(X_test)\n",
    "y_pred_regressor_rf1"
   ]
  },
  {
   "cell_type": "code",
   "execution_count": null,
   "metadata": {},
   "outputs": [],
   "source": [
    "RF_Accuracy_SMOTE = rf_SMOTE.score(X_test,y_test)\n",
    "RF_Accuracy_SMOTE"
   ]
  },
  {
   "cell_type": "code",
   "execution_count": null,
   "metadata": {},
   "outputs": [],
   "source": [
    "cm_regressor_rf1 = confusion_matrix(y_test, y_pred_regressor_rf1)\n",
    "print(cm_regressor_rf1)\n",
    "print(\"Accuracy score of the model:\",accuracy_score(y_test, y_pred_regressor_rf1))\n",
    "print(classification_report(y_test, y_pred_regressor_rf1))"
   ]
  },
  {
   "cell_type": "markdown",
   "metadata": {},
   "source": [
    "### SVM"
   ]
  },
  {
   "cell_type": "code",
   "execution_count": null,
   "metadata": {},
   "outputs": [],
   "source": [
    "svm_smote = SVC(kernel = 'rbf', random_state=0,gamma=\"auto\")\n",
    "svm_smote.fit(X_train_Smote, Y_train_Smote)"
   ]
  },
  {
   "cell_type": "code",
   "execution_count": null,
   "metadata": {},
   "outputs": [],
   "source": [
    "y_pred_regressor_svm1 = svm_smote.predict(X_test)\n",
    "y_pred_regressor_svm1"
   ]
  },
  {
   "cell_type": "code",
   "execution_count": null,
   "metadata": {},
   "outputs": [],
   "source": [
    "SVM_Accuracy_SMOTE = svm_smote.score(X_test,y_test)\n",
    "SVM_Accuracy_SMOTE"
   ]
  },
  {
   "cell_type": "code",
   "execution_count": null,
   "metadata": {},
   "outputs": [],
   "source": [
    "cm_regressor_svm1 = confusion_matrix(y_test, y_pred_regressor_svm1)\n",
    "print(cm_regressor_svm1)\n",
    "print(\"Accuracy score of the model:\",accuracy_score(y_test, y_pred_regressor_svm1))\n",
    "print(classification_report(y_test, y_pred_regressor_svm1))"
   ]
  },
  {
   "cell_type": "markdown",
   "metadata": {},
   "source": [
    "### Decision Tree"
   ]
  },
  {
   "cell_type": "code",
   "execution_count": null,
   "metadata": {},
   "outputs": [],
   "source": [
    "dt_SMOTE = DecisionTreeClassifier(criterion = 'entropy', random_state = 0)\n",
    "dt_SMOTE.fit(X_train_Smote, Y_train_Smote)"
   ]
  },
  {
   "cell_type": "code",
   "execution_count": null,
   "metadata": {},
   "outputs": [],
   "source": [
    "y_pred_regressor_dt1 = dt_SMOTE.predict(X_test)\n",
    "y_pred_regressor_dt1"
   ]
  },
  {
   "cell_type": "code",
   "execution_count": null,
   "metadata": {},
   "outputs": [],
   "source": [
    "DTree_Accuracy_SMOTE = dt_SMOTE.score(X_test,y_test)\n",
    "DTree_Accuracy_SMOTE"
   ]
  },
  {
   "cell_type": "code",
   "execution_count": null,
   "metadata": {},
   "outputs": [],
   "source": [
    "cm_regressor_dt1 = confusion_matrix(y_test, y_pred_regressor_dt1)\n",
    "print(cm_regressor_dt1)\n",
    "print(\"Accuracy score of the model:\",accuracy_score(y_test, y_pred_regressor_dt1))\n",
    "print(classification_report(y_test, y_pred_regressor_dt1))"
   ]
  },
  {
   "cell_type": "markdown",
   "metadata": {},
   "source": [
    "### KNN"
   ]
  },
  {
   "cell_type": "code",
   "execution_count": null,
   "metadata": {},
   "outputs": [],
   "source": [
    "knn_SMOTE = KNeighborsClassifier(n_neighbors = 10, metric='minkowski', p=2)\n",
    "knn_SMOTE.fit(X_train_Smote, Y_train_Smote)"
   ]
  },
  {
   "cell_type": "code",
   "execution_count": null,
   "metadata": {},
   "outputs": [],
   "source": [
    "y_pred_regressor_knn1 = knn_SMOTE.predict(X_test)\n",
    "y_pred_regressor_knn1"
   ]
  },
  {
   "cell_type": "code",
   "execution_count": null,
   "metadata": {},
   "outputs": [],
   "source": [
    "Knn_Accuracy_SMOTE = knn_SMOTE.score(X_test,y_test)\n",
    "Knn_Accuracy_SMOTE"
   ]
  },
  {
   "cell_type": "code",
   "execution_count": null,
   "metadata": {},
   "outputs": [],
   "source": [
    "cm_regressor_knn1 = confusion_matrix(y_test, y_pred_regressor_knn1)\n",
    "print(cm_regressor_knn1)\n",
    "print(\"Accuracy score of the model:\",accuracy_score(y_test, y_pred_regressor_knn1))\n",
    "print(classification_report(y_test, y_pred_regressor_knn1))"
   ]
  },
  {
   "cell_type": "markdown",
   "metadata": {},
   "source": [
    "### XGB"
   ]
  },
  {
   "cell_type": "code",
   "execution_count": null,
   "metadata": {},
   "outputs": [],
   "source": [
    "import xgboost as xgb\n",
    "from sklearn.model_selection import cross_val_score"
   ]
  },
  {
   "cell_type": "code",
   "execution_count": null,
   "metadata": {},
   "outputs": [],
   "source": [
    "xgb_SMOTE=xgb.XGBClassifier(base_score=0.5, booster='gbtree',gamma=0.0,\n",
    "              learning_rate=0.05, max_delta_step=0, max_depth=4,\n",
    "              n_estimators=100, n_jobs=4,random_state=0, verbosity=None)\n",
    "xgb_SMOTE.fit(X_train_Smote, Y_train_Smote)"
   ]
  },
  {
   "cell_type": "code",
   "execution_count": null,
   "metadata": {},
   "outputs": [],
   "source": [
    "y_pred_regressor_xgb1 = xgb_SMOTE.predict(X_test)\n",
    "y_pred_regressor_xgb1"
   ]
  },
  {
   "cell_type": "code",
   "execution_count": null,
   "metadata": {},
   "outputs": [],
   "source": [
    "xgb_Accuracy_SMOTE = xgb_SMOTE.score(X_test,y_test)\n",
    "xgb_Accuracy_SMOTE"
   ]
  },
  {
   "cell_type": "code",
   "execution_count": null,
   "metadata": {},
   "outputs": [],
   "source": [
    "cm_regressor_xgb1 = confusion_matrix(y_test, y_pred_regressor_xgb1)\n",
    "print(cm_regressor_xgb1)\n",
    "print(\"Accuracy score of the model:\",accuracy_score(y_test, y_pred_regressor_xgb1))\n",
    "print(classification_report(y_test, y_pred_regressor_xgb1))"
   ]
  },
  {
   "cell_type": "markdown",
   "metadata": {},
   "source": [
    "### Naive bayes\n"
   ]
  },
  {
   "cell_type": "code",
   "execution_count": null,
   "metadata": {},
   "outputs": [],
   "source": [
    "from sklearn.naive_bayes import GaussianNB"
   ]
  },
  {
   "cell_type": "code",
   "execution_count": null,
   "metadata": {},
   "outputs": [],
   "source": [
    "nb_SMOTE = GaussianNB()"
   ]
  },
  {
   "cell_type": "code",
   "execution_count": null,
   "metadata": {},
   "outputs": [],
   "source": [
    "nb_SMOTE.fit(X_train_Smote, Y_train_Smote)"
   ]
  },
  {
   "cell_type": "code",
   "execution_count": null,
   "metadata": {},
   "outputs": [],
   "source": [
    "y_pred_nb = nb_SMOTE.predict(X_test)\n",
    "y_pred_nb"
   ]
  },
  {
   "cell_type": "code",
   "execution_count": null,
   "metadata": {},
   "outputs": [],
   "source": [
    "NB_Accuracy_SMOTE= nb.score(X_test,y_test)\n",
    "NB_Accuracy_SMOTE"
   ]
  },
  {
   "cell_type": "code",
   "execution_count": null,
   "metadata": {},
   "outputs": [],
   "source": [
    "cm_regressor_nb1 = confusion_matrix(y_test, y_pred_nb)\n",
    "print(cm_regressor_nb1)\n",
    "print(\"Accuracy score of the model:\",accuracy_score(y_test, y_pred_nb))\n",
    "print(classification_report(y_test, y_pred_nb))\n"
   ]
  },
  {
   "cell_type": "code",
   "execution_count": null,
   "metadata": {},
   "outputs": [],
   "source": [
    "Accuracy = pd.DataFrame()"
   ]
  },
  {
   "cell_type": "code",
   "execution_count": null,
   "metadata": {},
   "outputs": [],
   "source": [
    "\n",
    "Accuracy['LogReg']= log_Accuracy\n",
    "Accuracy['Random.F']=RF_Accuracy\n",
    "Accuracy['SVM']=SVM_Accuracy\n",
    "Accuracy['Decision Tree']=DTree_Accuracy\n",
    "Accuracy['KNN']=Knn_Accuracy\n",
    "Accuracy['XGB'] =xgb_Accuracy\n",
    "Accuracy['Naive_Bayes']=NB_Accuracy"
   ]
  },
  {
   "cell_type": "code",
   "execution_count": null,
   "metadata": {},
   "outputs": [],
   "source": [
    "Accuracy_SMOTE = pd.DataFrame()"
   ]
  },
  {
   "cell_type": "code",
   "execution_count": null,
   "metadata": {},
   "outputs": [],
   "source": [
    "Accuracy_SMOTE['LogReg']= log_Accuracy_SMOTE\n",
    "Accuracy_SMOTE['Random.F']=RF_Accuracy_SMOTE\n",
    "Accuracy_SMOTE['SVM']=SVM_Accuracy_SMOTE\n",
    "Accuracy_SMOTE['Decision Tree']=DTree_Accuracy_SMOTE\n",
    "Accuracy_SMOTE['KNN']=Knn_Accuracy_SMOTE\n",
    "Accuracy_SMOTE['XGB'] =xgb_Accuracy_SMOTE\n",
    "Accuracy_SMOTE['Naive_Bayes']=NB_Accuracy_SMOTE"
   ]
  },
  {
   "cell_type": "code",
   "execution_count": null,
   "metadata": {},
   "outputs": [],
   "source": [
    "Models_Accuracy=pd.DataFrame({\"Model\":list(Accuracy),\"Accuracy Score\": [log_Accuracy,RF_Accuracy,SVM_Accuracy,DTree_Accuracy,Knn_Accuracy,xgb_Accuracy,NB_Accuracy]})\n",
    "Models_Accuracy"
   ]
  },
  {
   "cell_type": "code",
   "execution_count": null,
   "metadata": {},
   "outputs": [],
   "source": [
    "Models_Accuracy_SMOTE=pd.DataFrame({\"Model\":list(Accuracy_SMOTE),\"Accuracy Score\": [log_Accuracy_SMOTE,RF_Accuracy_SMOTE,SVM_Accuracy_SMOTE,DTree_Accuracy_SMOTE,Knn_Accuracy_SMOTE,xgb_Accuracy_SMOTE,NB_Accuracy_SMOTE]})\n",
    "Models_Accuracy_SMOTE"
   ]
  },
  {
   "cell_type": "code",
   "execution_count": null,
   "metadata": {},
   "outputs": [],
   "source": [
    "import pickle"
   ]
  },
  {
   "cell_type": "code",
   "execution_count": null,
   "metadata": {},
   "outputs": [],
   "source": [
    "pickle.dump(rf_SMOTE, open('Credit_Card_Fraud_Detection_Model.pkl', 'wb'))"
   ]
  },
  {
   "cell_type": "code",
   "execution_count": null,
   "metadata": {},
   "outputs": [],
   "source": [
    "pickle.load(open('Credit_Card_Fraud_Detection_Model.pkl','rb'))\n"
   ]
  },
  {
   "cell_type": "code",
   "execution_count": null,
   "metadata": {},
   "outputs": [],
   "source": []
  },
  {
   "cell_type": "code",
   "execution_count": null,
   "metadata": {},
   "outputs": [],
   "source": []
  },
  {
   "cell_type": "code",
   "execution_count": null,
   "metadata": {},
   "outputs": [],
   "source": []
  },
  {
   "cell_type": "code",
   "execution_count": null,
   "metadata": {},
   "outputs": [],
   "source": []
  },
  {
   "cell_type": "code",
   "execution_count": null,
   "metadata": {},
   "outputs": [],
   "source": []
  },
  {
   "cell_type": "code",
   "execution_count": null,
   "metadata": {},
   "outputs": [],
   "source": []
  }
 ],
 "metadata": {
  "kernelspec": {
   "display_name": "Python 3",
   "language": "python",
   "name": "python3"
  },
  "language_info": {
   "codemirror_mode": {
    "name": "ipython",
    "version": 3
   },
   "file_extension": ".py",
   "mimetype": "text/x-python",
   "name": "python",
   "nbconvert_exporter": "python",
   "pygments_lexer": "ipython3",
   "version": "3.8.5"
  }
 },
 "nbformat": 4,
 "nbformat_minor": 4
}
